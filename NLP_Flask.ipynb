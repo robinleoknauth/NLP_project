{
 "cells": [
  {
   "cell_type": "code",
   "execution_count": 1,
   "metadata": {},
   "outputs": [],
   "source": [
    "import flask\n",
    "\n",
    "import numpy as np\n",
    "import pandas as pd\n",
    "import pickle\n",
    "from collections import defaultdict\n",
    "\n",
    "from sklearn.neighbors import NearestNeighbors\n",
    "\n",
    "\n",
    "\n",
    "from fuzzywuzzy import process\n",
    "from fuzzywuzzy import fuzz\n",
    "\n"
   ]
  },
  {
   "cell_type": "code",
   "execution_count": null,
   "metadata": {},
   "outputs": [],
   "source": []
  },
  {
   "cell_type": "code",
   "execution_count": 2,
   "metadata": {},
   "outputs": [],
   "source": [
    "with open('./data/df_merged_cleaned.pkl', 'rb') as picklefile:\n",
    "    df_merged = pickle.load(picklefile)\n",
    "\n",
    "with open('./data/topic_names.pkl', 'rb') as picklefile:\n",
    "    topic_names = pickle.load(picklefile)\n",
    "\n",
    "with open('./data/lda_model.pkl', 'rb') as picklefile:\n",
    "    lda_mod = pickle.load(picklefile)\n",
    "\n",
    "with open('./data/vectorizer.pkl', 'rb') as picklefile:\n",
    "    vect_mod = pickle.load(picklefile)\n",
    "\n",
    "with open('./data/lda_model_data.pkl', 'rb') as picklefile:\n",
    "    lda_data = pickle.load(picklefile)\n",
    "\n",
    "cleaned_talks = df_merged['text']\n",
    "\n",
    "titles = df_merged['title']"
   ]
  },
  {
   "cell_type": "code",
   "execution_count": 3,
   "metadata": {},
   "outputs": [],
   "source": [
    "app = flask.Flask(__name__)"
   ]
  },
  {
   "cell_type": "code",
   "execution_count": null,
   "metadata": {},
   "outputs": [],
   "source": [
    "def get_recommendations(first_article, model, vectorizer, training_vectors,title, ind):\n",
    "\n",
    "    new_vec = model.transform(\n",
    "        vectorizer.transform([first_article]))\n",
    "\n",
    "    nn = NearestNeighbors(n_neighbors=10, metric='cosine', algorithm='brute')\n",
    "    nn.fit(training_vectors)\n",
    "    results = nn.kneighbors(new_vec)\n",
    "    recommend_list = results[1][0]\n",
    "    scores = results[0]\n",
    "\n",
    "    rec_dict = defaultdict(list)\n",
    "    urls = []\n",
    "    ss = np.array(scores).flat\n",
    "    \n",
    "    print(recommend_list)\n",
    "#     for i, resp in enumerate(recommend_list):\n",
    "        \n",
    "#         rec_dict[\"0\"].append(df_merged.iloc[resp,1])\n",
    "        \n",
    "# #         rec_dict['0'].append(df_merged.iloc[i]['title'])\n",
    "# #         rec_dict['0'].append(df_merged.iloc[i]['url'])\n",
    "# #         rec_dict['0'].append(df_merged.iloc[i]['title'])\n",
    "        \n",
    "# #         rec_dict[\"desc\"].append(df_merged.iloc[resp,1])\n",
    "# #         rec_dict[\"url\"].append(df_merged.iloc[i]['url'])\n",
    "# #         rec_dict[\"title\"].append(df_merged.iloc[i]['title'])\n",
    "# #         urls.append(df_merged.iloc[i]['url'])\n",
    "# #         rec_dict['title'] = df_merged[title]\n",
    "    \n",
    "#     for i, resp in enumerate(recommend_list):\n",
    "#         rec_dict['0'].append(df_merged.iloc[i]['url'])\n",
    "\n",
    "    for i in recommend_list:\n",
    "        rec_dict['0'].append(df_merged.iloc[i]['title'])\n",
    "        \n",
    "    for i in recommend_list:\n",
    "        rec_dict['0'].append(df_merged.iloc[i]['url'])\n",
    "        \n",
    "        \n",
    "    return rec_dict"
   ]
  },
  {
   "cell_type": "code",
   "execution_count": null,
   "metadata": {},
   "outputs": [
    {
     "name": "stdout",
     "output_type": "stream",
     "text": [
      "[   7 2037  359 1529 1748  358 2385 1636 1851 1522]\n"
     ]
    },
    {
     "data": {
      "text/plain": [
       "defaultdict(list,\n",
       "            {'0': [\"Behind the design of Seattle's library\",\n",
       "              'Why great architecture should tell a story',\n",
       "              'Ways of seeing',\n",
       "              'Architecture at home in its community',\n",
       "              'How to reinvent the apartment building',\n",
       "              'Organic algorithms in architecture',\n",
       "              'Why glass towers are bad for city life -- and what we need instead',\n",
       "              'How public spaces make cities work',\n",
       "              'Why the buildings of the future will be shaped by ... you',\n",
       "              'Ingenious homes in unexpected places',\n",
       "              'https://www.ted.com/talks/joshua_prince_ramus_on_seattle_s_library\\n',\n",
       "              'https://www.ted.com/talks/ole_scheeren_why_great_architecture_should_tell_a_story\\n',\n",
       "              'https://www.ted.com/talks/rob_forbes_on_ways_of_seeing\\n',\n",
       "              'https://www.ted.com/talks/xavier_vilalta_architecture_at_home_in_its_community\\n',\n",
       "              'https://www.ted.com/talks/moshe_safdie_how_to_reinvent_the_apartment_building\\n',\n",
       "              'https://www.ted.com/talks/greg_lynn_on_organic_design\\n',\n",
       "              'https://www.ted.com/talks/justin_davidson_why_shiny_glass_towers_are_bad_for_city_life\\n',\n",
       "              'https://www.ted.com/talks/amanda_burden_how_public_spaces_make_cities_work\\n',\n",
       "              'https://www.ted.com/talks/marc_kushner_why_the_buildings_of_the_future_will_be_shaped_by_you\\n',\n",
       "              'https://www.ted.com/talks/iwan_baan_ingenious_homes_in_unexpected_places\\n']})"
      ]
     },
     "execution_count": 5,
     "metadata": {},
     "output_type": "execute_result"
    }
   ],
   "source": [
    "get_recommendations(cleaned_talks[7], lda_mod, vect_mod,\n",
    "                                       lda_data, 'Do schools kill creativity?', 1)"
   ]
  },
  {
   "cell_type": "code",
   "execution_count": null,
   "metadata": {},
   "outputs": [],
   "source": [
    "@app.route(\"/\")\n",
    "def visualize_page():\n",
    "\n",
    "    \n",
    "    with open(\"ted_html.html\", 'r') as viz_file:\n",
    "        return viz_file.read()"
   ]
  },
  {
   "cell_type": "code",
   "execution_count": null,
   "metadata": {},
   "outputs": [],
   "source": []
  },
  {
   "cell_type": "code",
   "execution_count": null,
   "metadata": {
    "scrolled": false
   },
   "outputs": [
    {
     "name": "stdout",
     "output_type": "stream",
     "text": [
      " * Serving Flask app \"__main__\" (lazy loading)\n",
      " * Environment: production\n",
      "   WARNING: Do not use the development server in a production environment.\n",
      "   Use a production WSGI server instead.\n",
      " * Debug mode: off\n"
     ]
    },
    {
     "name": "stderr",
     "output_type": "stream",
     "text": [
      " * Running on http://0.0.0.0:5000/ (Press CTRL+C to quit)\n",
      "/anaconda3/lib/python3.7/site-packages/sklearn/decomposition/online_lda.py:395: UserWarning: Loky-backed parallel loops cannot be nested below threads, setting n_jobs=1\n",
      "  n_jobs = effective_n_jobs(self.n_jobs)\n",
      "127.0.0.1 - - [27/May/2019 12:52:49] \"POST /ted HTTP/1.1\" 200 -\n"
     ]
    },
    {
     "name": "stdout",
     "output_type": "stream",
     "text": [
      "educate\n",
      "[ 129 1911   39  292 1704 1184  965 2226 2082 2213]\n",
      "dict_values([['How to educate leaders? Liberal arts', \"This is what it's like to go undercover in North Korea\", 'My wish: Three actions for Africa', 'The psychology of evil', 'When people of Muslim heritage challenge fundamentalism', 'The shared wonder of film', 'Pay attention to nonviolence', 'Inside the mind of a former radical jihadist', \"A conservative's plea: Let's work together\", 'Immigrant voices make democracy stronger', 'https://www.ted.com/talks/patrick_awuah_on_educating_leaders\\n', 'https://www.ted.com/talks/suki_kim_this_is_what_it_s_like_to_go_undercover_in_north_korea\\n', 'https://www.ted.com/talks/bono_s_call_to_action_for_africa\\n', 'https://www.ted.com/talks/philip_zimbardo_on_the_psychology_of_evil\\n', 'https://www.ted.com/talks/karima_bennoune_the_side_of_terrorism_that_doesn_t_make_headlines\\n', 'https://www.ted.com/talks/beeban_kidron_the_shared_wonder_of_film\\n', 'https://www.ted.com/talks/julia_bacha\\n', 'https://www.ted.com/talks/manwar_ali_inside_the_mind_of_a_former_radical_jihadist\\n', 'https://www.ted.com/talks/arthur_brooks_a_conservative_s_plea_let_s_work_together\\n', 'https://www.ted.com/talks/sayu_bhojwani_how_immigrant_voices_make_democracy_stronger\\n']])\n"
     ]
    },
    {
     "name": "stderr",
     "output_type": "stream",
     "text": [
      "/anaconda3/lib/python3.7/site-packages/sklearn/decomposition/online_lda.py:395: UserWarning: Loky-backed parallel loops cannot be nested below threads, setting n_jobs=1\n",
      "  n_jobs = effective_n_jobs(self.n_jobs)\n",
      "127.0.0.1 - - [27/May/2019 12:52:57] \"POST /ted HTTP/1.1\" 200 -\n"
     ]
    },
    {
     "name": "stdout",
     "output_type": "stream",
     "text": [
      "do schools\n",
      "[   0  406 1342 1354 1120 1372 2416 1723 2247 1968]\n",
      "dict_values([['Do schools kill creativity?', 'The difference between winning and succeeding', 'Kids need structure', 'Dare to educate Afghan girls', 'Unlock the intelligence, passion, greatness of girls', 'A girl who demanded school', 'Can art amend history?', 'Why lunch ladies are heroes', 'Help for kids the education system ignores', 'How I stopped the Taliban from shutting down my school', 'https://www.ted.com/talks/ken_robinson_says_schools_kill_creativity\\n', 'https://www.ted.com/talks/john_wooden_on_the_difference_between_winning_and_success\\n', 'https://www.ted.com/talks/colin_powell_kids_need_structure\\n', 'https://www.ted.com/talks/shabana_basij_rasikh_dare_to_educate_afghan_girls\\n', 'https://www.ted.com/talks/leymah_gbowee_unlock_the_intelligence_passion_greatness_of_girls\\n', 'https://www.ted.com/talks/kakenya_ntaiya_a_girl_who_demanded_school\\n', 'https://www.ted.com/talks/titus_kaphar_can_art_amend_history\\n', 'https://www.ted.com/talks/jarrett_krosoczka_why_lunch_ladies_are_heroes\\n', 'https://www.ted.com/talks/victor_rios_help_for_kids_the_education_system_ignores\\n', 'https://www.ted.com/talks/sakena_yacoobi_how_i_stopped_the_taliban_from_shutting_down_my_school\\n']])\n"
     ]
    },
    {
     "name": "stderr",
     "output_type": "stream",
     "text": [
      "127.0.0.1 - - [27/May/2019 12:54:23] \"GET / HTTP/1.1\" 200 -\n",
      "/anaconda3/lib/python3.7/site-packages/sklearn/decomposition/online_lda.py:395: UserWarning: Loky-backed parallel loops cannot be nested below threads, setting n_jobs=1\n",
      "  n_jobs = effective_n_jobs(self.n_jobs)\n",
      "127.0.0.1 - - [27/May/2019 12:54:57] \"POST /ted HTTP/1.1\" 200 -\n"
     ]
    },
    {
     "name": "stdout",
     "output_type": "stream",
     "text": [
      "best stats\n",
      "[   4  493 1586 1214  547  440 1754  513 1963 1982]\n",
      "dict_values([[\"The best stats you've ever seen\", 'Let my dataset change your mindset', 'Why smart statistics are the key to fighting crime', \"Let's crowdsource the world's goals\", \"Asia's rise -- how and when\", \"Ideas for India's future\", 'New thoughts on capital in the twenty-first century', 'Mapping the future of countries', 'How fear drives American politics', 'How we can make the world a better place by 2030', 'https://www.ted.com/talks/hans_rosling_shows_the_best_stats_you_ve_ever_seen\\n', 'https://www.ted.com/talks/hans_rosling_at_state\\n', 'https://www.ted.com/talks/anne_milgram_why_smart_statistics_are_the_key_to_fighting_crime\\n', 'https://www.ted.com/talks/jamie_drummond_how_to_set_goals_for_the_world\\n', 'https://www.ted.com/talks/hans_rosling_asia_s_rise_how_and_when\\n', 'https://www.ted.com/talks/nandan_nilekani_s_ideas_for_india_s_future\\n', 'https://www.ted.com/talks/thomas_piketty_new_thoughts_on_capital_in_the_twenty_first_century\\n', 'https://www.ted.com/talks/parag_khanna_maps_the_future_of_countries\\n', 'https://www.ted.com/talks/david_rothkopf_how_fear_drives_american_politics\\n', 'https://www.ted.com/talks/michael_green_how_we_can_make_the_world_a_better_place_by_2030\\n']])\n"
     ]
    },
    {
     "name": "stderr",
     "output_type": "stream",
     "text": [
      "/anaconda3/lib/python3.7/site-packages/sklearn/decomposition/online_lda.py:395: UserWarning: Loky-backed parallel loops cannot be nested below threads, setting n_jobs=1\n",
      "  n_jobs = effective_n_jobs(self.n_jobs)\n",
      "127.0.0.1 - - [27/May/2019 12:55:23] \"POST /ted HTTP/1.1\" 200 -\n"
     ]
    },
    {
     "name": "stdout",
     "output_type": "stream",
     "text": [
      "do schools\n",
      "[   0  406 1342 1354 1120 1372 2416 1723 2247 1968]\n",
      "dict_values([['Do schools kill creativity?', 'The difference between winning and succeeding', 'Kids need structure', 'Dare to educate Afghan girls', 'Unlock the intelligence, passion, greatness of girls', 'A girl who demanded school', 'Can art amend history?', 'Why lunch ladies are heroes', 'Help for kids the education system ignores', 'How I stopped the Taliban from shutting down my school', 'https://www.ted.com/talks/ken_robinson_says_schools_kill_creativity\\n', 'https://www.ted.com/talks/john_wooden_on_the_difference_between_winning_and_success\\n', 'https://www.ted.com/talks/colin_powell_kids_need_structure\\n', 'https://www.ted.com/talks/shabana_basij_rasikh_dare_to_educate_afghan_girls\\n', 'https://www.ted.com/talks/leymah_gbowee_unlock_the_intelligence_passion_greatness_of_girls\\n', 'https://www.ted.com/talks/kakenya_ntaiya_a_girl_who_demanded_school\\n', 'https://www.ted.com/talks/titus_kaphar_can_art_amend_history\\n', 'https://www.ted.com/talks/jarrett_krosoczka_why_lunch_ladies_are_heroes\\n', 'https://www.ted.com/talks/victor_rios_help_for_kids_the_education_system_ignores\\n', 'https://www.ted.com/talks/sakena_yacoobi_how_i_stopped_the_taliban_from_shutting_down_my_school\\n']])\n"
     ]
    },
    {
     "name": "stderr",
     "output_type": "stream",
     "text": [
      "/anaconda3/lib/python3.7/site-packages/sklearn/decomposition/online_lda.py:395: UserWarning: Loky-backed parallel loops cannot be nested below threads, setting n_jobs=1\n",
      "  n_jobs = effective_n_jobs(self.n_jobs)\n",
      "127.0.0.1 - - [27/May/2019 12:57:10] \"POST /ted HTTP/1.1\" 200 -\n"
     ]
    },
    {
     "name": "stdout",
     "output_type": "stream",
     "text": [
      "do schools\n",
      "[   0  406 1342 1354 1120 1372 2416 1723 2247 1968]\n",
      "dict_values([['Do schools kill creativity?', 'The difference between winning and succeeding', 'Kids need structure', 'Dare to educate Afghan girls', 'Unlock the intelligence, passion, greatness of girls', 'A girl who demanded school', 'Can art amend history?', 'Why lunch ladies are heroes', 'Help for kids the education system ignores', 'How I stopped the Taliban from shutting down my school', 'https://www.ted.com/talks/ken_robinson_says_schools_kill_creativity\\n', 'https://www.ted.com/talks/john_wooden_on_the_difference_between_winning_and_success\\n', 'https://www.ted.com/talks/colin_powell_kids_need_structure\\n', 'https://www.ted.com/talks/shabana_basij_rasikh_dare_to_educate_afghan_girls\\n', 'https://www.ted.com/talks/leymah_gbowee_unlock_the_intelligence_passion_greatness_of_girls\\n', 'https://www.ted.com/talks/kakenya_ntaiya_a_girl_who_demanded_school\\n', 'https://www.ted.com/talks/titus_kaphar_can_art_amend_history\\n', 'https://www.ted.com/talks/jarrett_krosoczka_why_lunch_ladies_are_heroes\\n', 'https://www.ted.com/talks/victor_rios_help_for_kids_the_education_system_ignores\\n', 'https://www.ted.com/talks/sakena_yacoobi_how_i_stopped_the_taliban_from_shutting_down_my_school\\n']])\n"
     ]
    },
    {
     "name": "stderr",
     "output_type": "stream",
     "text": [
      "/anaconda3/lib/python3.7/site-packages/sklearn/decomposition/online_lda.py:395: UserWarning: Loky-backed parallel loops cannot be nested below threads, setting n_jobs=1\n",
      "  n_jobs = effective_n_jobs(self.n_jobs)\n",
      "127.0.0.1 - - [27/May/2019 12:57:28] \"POST /ted HTTP/1.1\" 200 -\n"
     ]
    },
    {
     "name": "stdout",
     "output_type": "stream",
     "text": [
      "best stats\n",
      "[   4  493 1586 1214  547  440 1754  513 1963 1982]\n",
      "dict_values([[\"The best stats you've ever seen\", 'Let my dataset change your mindset', 'Why smart statistics are the key to fighting crime', \"Let's crowdsource the world's goals\", \"Asia's rise -- how and when\", \"Ideas for India's future\", 'New thoughts on capital in the twenty-first century', 'Mapping the future of countries', 'How fear drives American politics', 'How we can make the world a better place by 2030', 'https://www.ted.com/talks/hans_rosling_shows_the_best_stats_you_ve_ever_seen\\n', 'https://www.ted.com/talks/hans_rosling_at_state\\n', 'https://www.ted.com/talks/anne_milgram_why_smart_statistics_are_the_key_to_fighting_crime\\n', 'https://www.ted.com/talks/jamie_drummond_how_to_set_goals_for_the_world\\n', 'https://www.ted.com/talks/hans_rosling_asia_s_rise_how_and_when\\n', 'https://www.ted.com/talks/nandan_nilekani_s_ideas_for_india_s_future\\n', 'https://www.ted.com/talks/thomas_piketty_new_thoughts_on_capital_in_the_twenty_first_century\\n', 'https://www.ted.com/talks/parag_khanna_maps_the_future_of_countries\\n', 'https://www.ted.com/talks/david_rothkopf_how_fear_drives_american_politics\\n', 'https://www.ted.com/talks/michael_green_how_we_can_make_the_world_a_better_place_by_2030\\n']])\n",
      "best stats\n"
     ]
    },
    {
     "name": "stderr",
     "output_type": "stream",
     "text": [
      "/anaconda3/lib/python3.7/site-packages/sklearn/decomposition/online_lda.py:395: UserWarning: Loky-backed parallel loops cannot be nested below threads, setting n_jobs=1\n",
      "  n_jobs = effective_n_jobs(self.n_jobs)\n",
      "127.0.0.1 - - [27/May/2019 12:57:28] \"POST /ted HTTP/1.1\" 200 -\n"
     ]
    },
    {
     "name": "stdout",
     "output_type": "stream",
     "text": [
      "[   4  493 1586 1214  547  440 1754  513 1963 1982]\n",
      "dict_values([[\"The best stats you've ever seen\", 'Let my dataset change your mindset', 'Why smart statistics are the key to fighting crime', \"Let's crowdsource the world's goals\", \"Asia's rise -- how and when\", \"Ideas for India's future\", 'New thoughts on capital in the twenty-first century', 'Mapping the future of countries', 'How fear drives American politics', 'How we can make the world a better place by 2030', 'https://www.ted.com/talks/hans_rosling_shows_the_best_stats_you_ve_ever_seen\\n', 'https://www.ted.com/talks/hans_rosling_at_state\\n', 'https://www.ted.com/talks/anne_milgram_why_smart_statistics_are_the_key_to_fighting_crime\\n', 'https://www.ted.com/talks/jamie_drummond_how_to_set_goals_for_the_world\\n', 'https://www.ted.com/talks/hans_rosling_asia_s_rise_how_and_when\\n', 'https://www.ted.com/talks/nandan_nilekani_s_ideas_for_india_s_future\\n', 'https://www.ted.com/talks/thomas_piketty_new_thoughts_on_capital_in_the_twenty_first_century\\n', 'https://www.ted.com/talks/parag_khanna_maps_the_future_of_countries\\n', 'https://www.ted.com/talks/david_rothkopf_how_fear_drives_american_politics\\n', 'https://www.ted.com/talks/michael_green_how_we_can_make_the_world_a_better_place_by_2030\\n']])\n"
     ]
    }
   ],
   "source": [
    "@app.route(\"/ted\", methods=[\"POST\"])\n",
    "def ted():\n",
    "    \"\"\"\n",
    "    When A POST request with json data is made to this uri,\n",
    "    Read the example from the json, predict probability and\n",
    "    send it with a response\n",
    "    \"\"\"\n",
    "    # Get decision score for our example that came with the request\n",
    "    data = flask.request.json\n",
    "    print(data)\n",
    "    X = data#[\"example\"])\n",
    "    #X = str(X[0])\n",
    "    title, score, talk_ind = process.extractOne(X, titles, scorer=fuzz.token_set_ratio)\n",
    "    recs = get_recommendations(cleaned_talks[talk_ind],lda_mod, vect_mod, lda_data, title,talk_ind)\n",
    "#     recs, urls = get_recommendations(cleaned_talks[talk_ind],lda_mod, vect_mod, lda_data, title,talk_ind)\n",
    "    print(recs.values())\n",
    "    # Put the result in a nice dict so we can send it as json\n",
    "    #results = {\"recommends\": recs[1]}\n",
    "    #print(results)\n",
    "    \n",
    "    return flask.jsonify(recs['0'])\n",
    "\n",
    "    \n",
    "\n",
    "#     return flask.jsonify(recs['0']), flask.jsonify(urls)\n",
    "#     return flask.jsonify(recs['0']), flask.jsonify(recs['1'])\n",
    "\n",
    "#     print(flask.jsonify(descriptions = recs['desc'], titles = recs['title'], urls = recs['urls']))\n",
    "    \n",
    "#     return flask.jsonify(descriptions = recs['desc'], titles = recs['title'], urls = recs['urls'])\n",
    "\n",
    "#     d = {'descriptions' : recs['desc'], 'titles' : recs['title'], 'urls' : recs['urls']}\n",
    "#     message = {\n",
    "#         'status': 200,\n",
    "#         'message': 'OK',\n",
    "#         'scores': d\n",
    "#     }\n",
    "#     resp = flask.jsonify(message)\n",
    "#     resp.status_code = 200\n",
    "#     return resp\n",
    "app.run(host='0.0.0.0')\n",
    "app.run(debug=True)"
   ]
  },
  {
   "cell_type": "code",
   "execution_count": null,
   "metadata": {},
   "outputs": [],
   "source": []
  },
  {
   "cell_type": "code",
   "execution_count": null,
   "metadata": {},
   "outputs": [],
   "source": []
  }
 ],
 "metadata": {
  "kernelspec": {
   "display_name": "Python 3",
   "language": "python",
   "name": "python3"
  },
  "language_info": {
   "codemirror_mode": {
    "name": "ipython",
    "version": 3
   },
   "file_extension": ".py",
   "mimetype": "text/x-python",
   "name": "python",
   "nbconvert_exporter": "python",
   "pygments_lexer": "ipython3",
   "version": "3.7.3"
  }
 },
 "nbformat": 4,
 "nbformat_minor": 2
}
