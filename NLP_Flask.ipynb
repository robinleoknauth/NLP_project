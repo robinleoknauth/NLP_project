{
 "cells": [
  {
   "cell_type": "code",
   "execution_count": 1,
   "metadata": {},
   "outputs": [],
   "source": [
    "import flask\n",
    "\n",
    "import numpy as np\n",
    "import pandas as pd\n",
    "import pickle\n",
    "from collections import defaultdict\n",
    "\n",
    "from sklearn.neighbors import NearestNeighbors\n",
    "\n",
    "\n",
    "from fuzzywuzzy import process\n",
    "from fuzzywuzzy import fuzz\n",
    "\n"
   ]
  },
  {
   "cell_type": "code",
   "execution_count": null,
   "metadata": {},
   "outputs": [],
   "source": []
  },
  {
   "cell_type": "code",
   "execution_count": 2,
   "metadata": {},
   "outputs": [],
   "source": [
    "with open('./data/df_merged_cleaned.pkl', 'rb') as picklefile:\n",
    "    df_merged = pickle.load(picklefile)\n",
    "\n",
    "with open('./data/topic_names.pkl', 'rb') as picklefile:\n",
    "    topic_names = pickle.load(picklefile)\n",
    "\n",
    "with open('./data/lda_model.pkl', 'rb') as picklefile:\n",
    "    lda_mod = pickle.load(picklefile)\n",
    "\n",
    "with open('./data/vectorizer.pkl', 'rb') as picklefile:\n",
    "    vect_mod = pickle.load(picklefile)\n",
    "\n",
    "with open('./data/lda_model_data.pkl', 'rb') as picklefile:\n",
    "    lda_data = pickle.load(picklefile)\n",
    "\n",
    "cleaned_talks = df_merged['text']\n",
    "\n",
    "titles = df_merged['title']"
   ]
  },
  {
   "cell_type": "code",
   "execution_count": 3,
   "metadata": {},
   "outputs": [],
   "source": [
    "app = flask.Flask(__name__)"
   ]
  },
  {
   "cell_type": "code",
   "execution_count": 4,
   "metadata": {},
   "outputs": [],
   "source": [
    "def get_recommendations(first_article, model, vectorizer, training_vectors,title, ind):\n",
    "\n",
    "    new_vec = model.transform(\n",
    "        vectorizer.transform([first_article]))\n",
    "\n",
    "    nn = NearestNeighbors(n_neighbors=10, metric='cosine', algorithm='brute')\n",
    "    nn.fit(training_vectors)\n",
    "    results = nn.kneighbors(new_vec)\n",
    "    recommend_list = results[1][0]\n",
    "    scores = results[0]\n",
    "\n",
    "    rec_dict = defaultdict(list)\n",
    "\n",
    "    ss = np.array(scores).flat\n",
    "    for i, resp in enumerate(recommend_list):\n",
    "        #print('--- ID ---\\n', + resp)\n",
    "        #print('--- dist ---\\n', + ss[i])\n",
    "        rec_dict[\"0\"].append(df_merged.iloc[resp,1])\n",
    "#         rec_dict['title'] = df_merged[title]\n",
    "    \n",
    "    rec_dict[\"0\"].append(title)\n",
    "    rec_dict[\"0\"].append(topic_names.iloc[ind,0])\n",
    "    return rec_dict"
   ]
  },
  {
   "cell_type": "code",
   "execution_count": 5,
   "metadata": {},
   "outputs": [],
   "source": [
    "@app.route(\"/\")\n",
    "def visualize_page():\n",
    "\n",
    "    \n",
    "    with open(\"ted_html.html\", 'r') as viz_file:\n",
    "        return viz_file.read()"
   ]
  },
  {
   "cell_type": "code",
   "execution_count": null,
   "metadata": {},
   "outputs": [],
   "source": []
  },
  {
   "cell_type": "code",
   "execution_count": null,
   "metadata": {
    "scrolled": false
   },
   "outputs": [
    {
     "name": "stdout",
     "output_type": "stream",
     "text": [
      " * Serving Flask app \"__main__\" (lazy loading)\n",
      " * Environment: production\n",
      "   WARNING: Do not use the development server in a production environment.\n",
      "   Use a production WSGI server instead.\n",
      " * Debug mode: off\n"
     ]
    },
    {
     "name": "stderr",
     "output_type": "stream",
     "text": [
      " * Running on http://0.0.0.0:5000/ (Press CTRL+C to quit)\n",
      "127.0.0.1 - - [26/May/2019 14:50:53] \"GET / HTTP/1.1\" 200 -\n",
      "/anaconda3/lib/python3.7/site-packages/sklearn/decomposition/online_lda.py:395: UserWarning: Loky-backed parallel loops cannot be nested below threads, setting n_jobs=1\n",
      "  n_jobs = effective_n_jobs(self.n_jobs)\n",
      "127.0.0.1 - - [26/May/2019 14:51:00] \"POST /ted HTTP/1.1\" 200 -\n"
     ]
    },
    {
     "name": "stdout",
     "output_type": "stream",
     "text": [
      "climate\n",
      "dict_values([['With the same humor and humanity he exuded in \"An Inconvenient Truth,\" Al Gore spells out 15 ways that individuals can address climate change immediately, from buying a hybrid to inventing a new, hotter brand name for global warming.', \"What's a proven way to lower your energy costs? Would you believe: learning what your neighbor pays. Alex Laskey shows how a quirk of human behavior can make us all better, wiser energy users, with lower bills to prove it.\", \"New York City residents produce 11,000 tons of garbage every day. Every day! This astonishing statistic is just one of the reasons Robin Nagle started a research project with the city's Department of Sanitation. She walked the routes, operated mechanical brooms, even drove a garbage truck herself--all so she could answer a simple-sounding but complicated question: who cleans up after us?\", 'At the Taste3 conference, chef Dan Barber tells the story of a small farm in Spain that has found a humane way to produce foie gras. Raising his geese in a natural environment, farmer Eduardo Sousa embodies the kind of food production Barber believes in.', 'Across sub-Saharan Africa, small farmers are the bedrock of national and regional economies—unless the weather\\xa0proves\\xa0unpredictable and their crops fail. The solution is insurance, at a vast, continental scale, and at a very low, affordable cost. Rose Goslinga and the Syngenta Foundation for Sustainable Agriculture pioneered an unconventional way to\\xa0give\\xa0farmers whose crops fail early\\xa0a\\xa0second chance at a growing season.', 'Kevin Surace suggests we rethink basic construction materials -- such as the familiar wallboard -- to reduce the huge carbon footprint generated by the manufacturing and construction of our buildings. He introduces EcoRock, a clean, recyclable and energy-efficient drywall created by his team at Serious Materials.', '\"I don\\'t think we\\'re going to make it,\" John Doerr says in an emotional talk about climate change and investment. To create a world fit for his daughter to live in, he says, we need to invest now in clean, green energy.', 'From packing peanuts to disposable coffee cups, each year the US alone produces some two billion pounds of Styrofoam -- none of which can be recycled. Frustrated by this waste of resources and landfill space, Ashton Cofer and his science fair teammates developed a heating treatment to break down used Styrofoam into something useful. Check out their original design, which won both the FIRST LEGO League Global Innovation Award and the Scientific American Innovator Award from Google Science Fair.', \"Can happiness be bought? To find out, author Benjamin Wallace sampled the world's most expensive products, including a bottle of 1947 Chateau Cheval Blanc, 8 ounces of Kobe beef and the fabled (notorious) Kopi Luwak coffee. His critique may surprise you.\", \"The water hyacinth may look like a harmless, even beautiful flowering plant -- but it's actually an invasive aquatic weed that clogs waterways, stopping trade, interrupting schooling and disrupting everyday life. In this scourge, green entrepreneur Achenyo Idachaba saw opportunity. Follow her journey as she turns weeds into woven wonders.\", 'Averting the climate crisis', 'story man home wanted old took told saw family friend guy knew later night month happened father remember week moment']])\n"
     ]
    },
    {
     "name": "stderr",
     "output_type": "stream",
     "text": [
      "/anaconda3/lib/python3.7/site-packages/sklearn/decomposition/online_lda.py:395: UserWarning: Loky-backed parallel loops cannot be nested below threads, setting n_jobs=1\n",
      "  n_jobs = effective_n_jobs(self.n_jobs)\n",
      "127.0.0.1 - - [26/May/2019 14:53:56] \"POST /ted HTTP/1.1\" 200 -\n"
     ]
    },
    {
     "name": "stdout",
     "output_type": "stream",
     "text": [
      "Do schools kill creativity\n",
      "dict_values([['Sir Ken Robinson makes an entertaining and profoundly moving case for creating an education system that nurtures (rather than undermines) creativity.', \"With profound simplicity, Coach John Wooden redefines success and urges us all to pursue the best in ourselves. In this inspiring talk he shares the advice he gave his players at UCLA, quotes poetry and remembers his father's wisdom.\", 'How can you help kids get a good start? In this heartfelt and personal talk, Colin Powell, the former U.S. Secretary of State, asks parents, friends and relatives to support children, starting before they even get to primary school, through community and a strong sense of responsibility.', \"Imagine a country where girls must sneak out to go to school, with deadly consequences if they get caught learning. This was Afghanistan under the Taliban, and traces of that danger remain today. 22-year-old Shabana Basij-Rasikh runs a school for girls in Afghanistan. She celebrates the power of a family's decision to believe in their daughters -- and tells the story of one brave father who stood up to local threats.\", \"Nobel Peace Prize winner Leymah Gbowee has two powerful stories to tell -- of her own life's transformation, and of the untapped potential of girls around the world. Can we transform the world by unlocking the greatness of girls?\", 'Kakenya Ntaiya made a deal with her father: She would undergo a traditional Maasai rite of passage, female circumcision, if he would let her go to high school. Ntaiya tells the fearless story of continuing on to college, and of working with her village elders to build a school for girls in her community, changing the destiny of 125 young women.', \"Artist Titus Kaphar makes paintings and sculptures that wrestle with the struggles of the past while speaking to the diversity and advances of the present. In an unforgettable live workshop, Kaphar takes a brush full of white paint to a replica of a 17th-century Frans Hals painting, obscuring parts of the composition and bringing its hidden story into view. There's a narrative coded in art like this, Kaphar says. What happens when we shift our focus and confront unspoken truths?\", \"Children's book author Jarrett Krosoczka shares the origins of the Lunch Lady graphic novel series, in which undercover school heroes serve lunch...and justice! His new project, School Lunch Hero Day, reveals how cafeteria lunch staff provide more than food, and illustrates how powerful a thank you can be.\", 'Define students by what they contribute, not what they lack -- especially those with difficult upbringings, says educator Victor Rios. Interweaved with his personal tale of perseverance as an inner-city youth, Rios identifies three straightforward strategies to shift attitudes in education and calls for fellow educators to see \"at-risk\" students as \"at-promise\" individuals brimming with resilience, character and grit.', \"When the Taliban closed all the girls' schools in Afghanistan, Sakena Yacoobi set up new schools, in secret, educating thousands of women and men. In this fierce, funny talk, she tells the jaw-dropping story of two times when she was threatened to stop teaching -- and shares her vision for rebuilding her beloved country.\", 'Do schools kill creativity?', 'child school kid student teacher education family parent learning learn class high old percent teach young college help girl classroom']])\n"
     ]
    },
    {
     "name": "stderr",
     "output_type": "stream",
     "text": [
      "127.0.0.1 - - [26/May/2019 14:57:06] \"GET / HTTP/1.1\" 200 -\n",
      "/anaconda3/lib/python3.7/site-packages/sklearn/decomposition/online_lda.py:395: UserWarning: Loky-backed parallel loops cannot be nested below threads, setting n_jobs=1\n",
      "  n_jobs = effective_n_jobs(self.n_jobs)\n",
      "127.0.0.1 - - [26/May/2019 14:57:12] \"POST /ted HTTP/1.1\" 200 -\n"
     ]
    },
    {
     "name": "stdout",
     "output_type": "stream",
     "text": [
      "schools kill\n",
      "dict_values([['Sir Ken Robinson makes an entertaining and profoundly moving case for creating an education system that nurtures (rather than undermines) creativity.', \"With profound simplicity, Coach John Wooden redefines success and urges us all to pursue the best in ourselves. In this inspiring talk he shares the advice he gave his players at UCLA, quotes poetry and remembers his father's wisdom.\", 'How can you help kids get a good start? In this heartfelt and personal talk, Colin Powell, the former U.S. Secretary of State, asks parents, friends and relatives to support children, starting before they even get to primary school, through community and a strong sense of responsibility.', \"Imagine a country where girls must sneak out to go to school, with deadly consequences if they get caught learning. This was Afghanistan under the Taliban, and traces of that danger remain today. 22-year-old Shabana Basij-Rasikh runs a school for girls in Afghanistan. She celebrates the power of a family's decision to believe in their daughters -- and tells the story of one brave father who stood up to local threats.\", \"Nobel Peace Prize winner Leymah Gbowee has two powerful stories to tell -- of her own life's transformation, and of the untapped potential of girls around the world. Can we transform the world by unlocking the greatness of girls?\", 'Kakenya Ntaiya made a deal with her father: She would undergo a traditional Maasai rite of passage, female circumcision, if he would let her go to high school. Ntaiya tells the fearless story of continuing on to college, and of working with her village elders to build a school for girls in her community, changing the destiny of 125 young women.', \"Artist Titus Kaphar makes paintings and sculptures that wrestle with the struggles of the past while speaking to the diversity and advances of the present. In an unforgettable live workshop, Kaphar takes a brush full of white paint to a replica of a 17th-century Frans Hals painting, obscuring parts of the composition and bringing its hidden story into view. There's a narrative coded in art like this, Kaphar says. What happens when we shift our focus and confront unspoken truths?\", \"Children's book author Jarrett Krosoczka shares the origins of the Lunch Lady graphic novel series, in which undercover school heroes serve lunch...and justice! His new project, School Lunch Hero Day, reveals how cafeteria lunch staff provide more than food, and illustrates how powerful a thank you can be.\", 'Define students by what they contribute, not what they lack -- especially those with difficult upbringings, says educator Victor Rios. Interweaved with his personal tale of perseverance as an inner-city youth, Rios identifies three straightforward strategies to shift attitudes in education and calls for fellow educators to see \"at-risk\" students as \"at-promise\" individuals brimming with resilience, character and grit.', \"When the Taliban closed all the girls' schools in Afghanistan, Sakena Yacoobi set up new schools, in secret, educating thousands of women and men. In this fierce, funny talk, she tells the jaw-dropping story of two times when she was threatened to stop teaching -- and shares her vision for rebuilding her beloved country.\", 'Do schools kill creativity?', 'child school kid student teacher education family parent learning learn class high old percent teach young college help girl classroom']])\n"
     ]
    }
   ],
   "source": [
    "@app.route(\"/ted\", methods=[\"POST\"])\n",
    "def ted():\n",
    "    \"\"\"\n",
    "    When A POST request with json data is made to this uri,\n",
    "    Read the example from the json, predict probability and\n",
    "    send it with a response\n",
    "    \"\"\"\n",
    "    # Get decision score for our example that came with the request\n",
    "    data = flask.request.json\n",
    "    print(data)\n",
    "    X = data#[\"example\"])\n",
    "    #X = str(X[0])\n",
    "    title, score, talk_ind = process.extractOne(X, titles, scorer=fuzz.token_set_ratio)\n",
    "    recs = get_recommendations(cleaned_talks[talk_ind],lda_mod, vect_mod, lda_data, title,talk_ind)\n",
    "\n",
    "    print(recs.values())\n",
    "    # Put the result in a nice dict so we can send it as json\n",
    "    #results = {\"recommends\": recs[1]}\n",
    "    #print(results)\n",
    "    return flask.jsonify(recs['0'])\n",
    "    #return flask.json.dump(recs,fp)\n",
    "#--------- RUN WEB APP SERVER ------------#\n",
    "\n",
    "# Start the app server on port 80\n",
    "# (The default website port)\n",
    "app.run(host='0.0.0.0')\n",
    "app.run(debug=True)"
   ]
  },
  {
   "cell_type": "code",
   "execution_count": null,
   "metadata": {},
   "outputs": [],
   "source": []
  },
  {
   "cell_type": "code",
   "execution_count": null,
   "metadata": {},
   "outputs": [],
   "source": []
  }
 ],
 "metadata": {
  "kernelspec": {
   "display_name": "Python 3",
   "language": "python",
   "name": "python3"
  },
  "language_info": {
   "codemirror_mode": {
    "name": "ipython",
    "version": 3
   },
   "file_extension": ".py",
   "mimetype": "text/x-python",
   "name": "python",
   "nbconvert_exporter": "python",
   "pygments_lexer": "ipython3",
   "version": "3.7.3"
  }
 },
 "nbformat": 4,
 "nbformat_minor": 2
}
