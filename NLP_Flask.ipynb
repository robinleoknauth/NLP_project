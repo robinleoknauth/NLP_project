{
 "cells": [
  {
   "cell_type": "code",
   "execution_count": 1,
   "metadata": {},
   "outputs": [],
   "source": [
    "import flask\n",
    "\n",
    "import numpy as np\n",
    "import pandas as pd\n",
    "import pickle\n",
    "from collections import defaultdict\n",
    "\n",
    "from sklearn.neighbors import NearestNeighbors\n",
    "\n",
    "\n",
    "\n",
    "from fuzzywuzzy import process\n",
    "from fuzzywuzzy import fuzz\n",
    "\n"
   ]
  },
  {
   "cell_type": "code",
   "execution_count": null,
   "metadata": {},
   "outputs": [],
   "source": []
  },
  {
   "cell_type": "code",
   "execution_count": 2,
   "metadata": {},
   "outputs": [],
   "source": [
    "with open('./data/df_merged_cleaned.pkl', 'rb') as picklefile:\n",
    "    df_merged = pickle.load(picklefile)\n",
    "\n",
    "with open('./data/topic_names.pkl', 'rb') as picklefile:\n",
    "    topic_names = pickle.load(picklefile)\n",
    "\n",
    "with open('./data/lda_model.pkl', 'rb') as picklefile:\n",
    "    lda_mod = pickle.load(picklefile)\n",
    "\n",
    "with open('./data/vectorizer.pkl', 'rb') as picklefile:\n",
    "    vect_mod = pickle.load(picklefile)\n",
    "\n",
    "with open('./data/lda_model_data.pkl', 'rb') as picklefile:\n",
    "    lda_data = pickle.load(picklefile)\n",
    "\n",
    "cleaned_talks = df_merged['text']\n",
    "\n",
    "titles = df_merged['title']"
   ]
  },
  {
   "cell_type": "code",
   "execution_count": 3,
   "metadata": {},
   "outputs": [],
   "source": [
    "app = flask.Flask(__name__)"
   ]
  },
  {
   "cell_type": "code",
   "execution_count": null,
   "metadata": {},
   "outputs": [],
   "source": [
    "def get_recommendations(first_article, model, vectorizer, training_vectors,title, ind):\n",
    "\n",
    "    new_vec = model.transform(\n",
    "        vectorizer.transform([first_article]))\n",
    "\n",
    "    nn = NearestNeighbors(n_neighbors=10, metric='cosine', algorithm='brute')\n",
    "    nn.fit(training_vectors)\n",
    "    results = nn.kneighbors(new_vec)\n",
    "    recommend_list = results[1][0]\n",
    "    scores = results[0]\n",
    "\n",
    "    rec_dict = defaultdict(list)\n",
    "    urls = []\n",
    "    ss = np.array(scores).flat\n",
    "    \n",
    "    print(recommend_list)\n",
    "#     for i, resp in enumerate(recommend_list):\n",
    "        \n",
    "#         rec_dict[\"0\"].append(df_merged.iloc[resp,1])\n",
    "        \n",
    "# #         rec_dict['0'].append(df_merged.iloc[i]['title'])\n",
    "# #         rec_dict['0'].append(df_merged.iloc[i]['url'])\n",
    "# #         rec_dict['0'].append(df_merged.iloc[i]['title'])\n",
    "        \n",
    "# #         rec_dict[\"desc\"].append(df_merged.iloc[resp,1])\n",
    "# #         rec_dict[\"url\"].append(df_merged.iloc[i]['url'])\n",
    "# #         rec_dict[\"title\"].append(df_merged.iloc[i]['title'])\n",
    "# #         urls.append(df_merged.iloc[i]['url'])\n",
    "# #         rec_dict['title'] = df_merged[title]\n",
    "    \n",
    "#     for i, resp in enumerate(recommend_list):\n",
    "#         rec_dict['0'].append(df_merged.iloc[i]['url'])\n",
    "\n",
    "    for i in recommend_list:\n",
    "        rec_dict['0'].append(df_merged.iloc[i]['title'])\n",
    "        \n",
    "    for i in recommend_list:\n",
    "        rec_dict['0'].append(df_merged.iloc[i]['url'])\n",
    "        \n",
    "        \n",
    "    return rec_dict"
   ]
  },
  {
   "cell_type": "code",
   "execution_count": null,
   "metadata": {},
   "outputs": [
    {
     "name": "stdout",
     "output_type": "stream",
     "text": [
      "[   7 2037  359 1529 1748  358 2385 1636 1851 1522]\n"
     ]
    },
    {
     "data": {
      "text/plain": [
       "defaultdict(list,\n",
       "            {'0': [\"Behind the design of Seattle's library\",\n",
       "              'Why great architecture should tell a story',\n",
       "              'Ways of seeing',\n",
       "              'Architecture at home in its community',\n",
       "              'How to reinvent the apartment building',\n",
       "              'Organic algorithms in architecture',\n",
       "              'Why glass towers are bad for city life -- and what we need instead',\n",
       "              'How public spaces make cities work',\n",
       "              'Why the buildings of the future will be shaped by ... you',\n",
       "              'Ingenious homes in unexpected places',\n",
       "              'https://www.ted.com/talks/joshua_prince_ramus_on_seattle_s_library\\n',\n",
       "              'https://www.ted.com/talks/ole_scheeren_why_great_architecture_should_tell_a_story\\n',\n",
       "              'https://www.ted.com/talks/rob_forbes_on_ways_of_seeing\\n',\n",
       "              'https://www.ted.com/talks/xavier_vilalta_architecture_at_home_in_its_community\\n',\n",
       "              'https://www.ted.com/talks/moshe_safdie_how_to_reinvent_the_apartment_building\\n',\n",
       "              'https://www.ted.com/talks/greg_lynn_on_organic_design\\n',\n",
       "              'https://www.ted.com/talks/justin_davidson_why_shiny_glass_towers_are_bad_for_city_life\\n',\n",
       "              'https://www.ted.com/talks/amanda_burden_how_public_spaces_make_cities_work\\n',\n",
       "              'https://www.ted.com/talks/marc_kushner_why_the_buildings_of_the_future_will_be_shaped_by_you\\n',\n",
       "              'https://www.ted.com/talks/iwan_baan_ingenious_homes_in_unexpected_places\\n']})"
      ]
     },
     "execution_count": 5,
     "metadata": {},
     "output_type": "execute_result"
    }
   ],
   "source": [
    "get_recommendations(cleaned_talks[7], lda_mod, vect_mod,\n",
    "                                       lda_data, 'Do schools kill creativity?', 1)"
   ]
  },
  {
   "cell_type": "code",
   "execution_count": null,
   "metadata": {},
   "outputs": [],
   "source": [
    "@app.route(\"/\")\n",
    "def visualize_page():\n",
    "\n",
    "    \n",
    "    with open(\"ted_html.html\", 'r') as viz_file:\n",
    "        return viz_file.read()"
   ]
  },
  {
   "cell_type": "code",
   "execution_count": null,
   "metadata": {},
   "outputs": [],
   "source": []
  },
  {
   "cell_type": "code",
   "execution_count": null,
   "metadata": {
    "scrolled": false
   },
   "outputs": [
    {
     "name": "stdout",
     "output_type": "stream",
     "text": [
      " * Serving Flask app \"__main__\" (lazy loading)\n",
      " * Environment: production\n",
      "   WARNING: Do not use the development server in a production environment.\n",
      "   Use a production WSGI server instead.\n",
      " * Debug mode: off\n"
     ]
    },
    {
     "name": "stderr",
     "output_type": "stream",
     "text": [
      " * Running on http://0.0.0.0:5000/ (Press CTRL+C to quit)\n",
      "127.0.0.1 - - [26/May/2019 17:59:49] \"GET / HTTP/1.1\" 200 -\n",
      "/anaconda3/lib/python3.7/site-packages/sklearn/decomposition/online_lda.py:395: UserWarning: Loky-backed parallel loops cannot be nested below threads, setting n_jobs=1\n",
      "  n_jobs = effective_n_jobs(self.n_jobs)\n",
      "127.0.0.1 - - [26/May/2019 17:59:52] \"POST /ted HTTP/1.1\" 200 -\n"
     ]
    },
    {
     "name": "stdout",
     "output_type": "stream",
     "text": [
      "schools\n",
      "[   0  406 1342 1354 1120 1372 2416 1723 2247 1968]\n",
      "dict_values([['Do schools kill creativity?', 'The difference between winning and succeeding', 'Kids need structure', 'Dare to educate Afghan girls', 'Unlock the intelligence, passion, greatness of girls', 'A girl who demanded school', 'Can art amend history?', 'Why lunch ladies are heroes', 'Help for kids the education system ignores', 'How I stopped the Taliban from shutting down my school', 'https://www.ted.com/talks/ken_robinson_says_schools_kill_creativity\\n', 'https://www.ted.com/talks/john_wooden_on_the_difference_between_winning_and_success\\n', 'https://www.ted.com/talks/colin_powell_kids_need_structure\\n', 'https://www.ted.com/talks/shabana_basij_rasikh_dare_to_educate_afghan_girls\\n', 'https://www.ted.com/talks/leymah_gbowee_unlock_the_intelligence_passion_greatness_of_girls\\n', 'https://www.ted.com/talks/kakenya_ntaiya_a_girl_who_demanded_school\\n', 'https://www.ted.com/talks/titus_kaphar_can_art_amend_history\\n', 'https://www.ted.com/talks/jarrett_krosoczka_why_lunch_ladies_are_heroes\\n', 'https://www.ted.com/talks/victor_rios_help_for_kids_the_education_system_ignores\\n', 'https://www.ted.com/talks/sakena_yacoobi_how_i_stopped_the_taliban_from_shutting_down_my_school\\n']])\n"
     ]
    },
    {
     "name": "stderr",
     "output_type": "stream",
     "text": [
      "/anaconda3/lib/python3.7/site-packages/sklearn/decomposition/online_lda.py:395: UserWarning: Loky-backed parallel loops cannot be nested below threads, setting n_jobs=1\n",
      "  n_jobs = effective_n_jobs(self.n_jobs)\n",
      "127.0.0.1 - - [26/May/2019 18:00:04] \"POST /ted HTTP/1.1\" 200 -\n"
     ]
    },
    {
     "name": "stdout",
     "output_type": "stream",
     "text": [
      "goal\n",
      "[ 762 1456 1942 2160 2043 1051 1540  772 1390 1443]\n",
      "dict_values([['Global power shifts', 'A tale of two political systems', 'The surprising way groups like ISIS stay in power', 'Why Brexit happened -- and what to do next', 'Capitalism will eat democracy -- unless we speak up', 'The global power shift', 'Is China the new idol for emerging economies?', 'The path to ending ethnic conflicts', 'We the People, and the Republic we must reclaim', 'Imagine a European democracy without borders', 'https://www.ted.com/talks/joseph_nye_on_global_power_shifts\\n', 'https://www.ted.com/talks/eric_x_li_a_tale_of_two_political_systems\\n', 'https://www.ted.com/talks/benedetta_berti_the_surprising_way_groups_like_isis_stay_in_power\\n', 'https://www.ted.com/talks/alexander_betts_why_brexit_happened_and_what_to_do_next\\n', 'https://www.ted.com/talks/yanis_varoufakis_capitalism_will_eat_democracy_unless_we_speak_up\\n', 'https://www.ted.com/talks/paddy_ashdown_the_global_power_shift\\n', 'https://www.ted.com/talks/dambisa_moyo_is_china_the_new_idol_for_emerging_economies\\n', 'https://www.ted.com/talks/stefan_wolff_the_path_to_ending_ethnic_conflicts\\n', 'https://www.ted.com/talks/lawrence_lessig_we_the_people_and_the_republic_we_must_reclaim\\n', 'https://www.ted.com/talks/george_papandreou_imagine_a_european_democracy_without_borders\\n']])\n"
     ]
    },
    {
     "name": "stderr",
     "output_type": "stream",
     "text": [
      "/anaconda3/lib/python3.7/site-packages/sklearn/decomposition/online_lda.py:395: UserWarning: Loky-backed parallel loops cannot be nested below threads, setting n_jobs=1\n",
      "  n_jobs = effective_n_jobs(self.n_jobs)\n",
      "127.0.0.1 - - [26/May/2019 18:00:27] \"POST /ted HTTP/1.1\" 200 -\n"
     ]
    },
    {
     "name": "stdout",
     "output_type": "stream",
     "text": [
      "religion\n",
      "[   8 1403 1686 1178  931 1687 1059 2325 2313 1807]\n",
      "dict_values([[\"Let's teach religion -- all religion -- in schools\", 'Txtng is killing language. JK!!!', 'Is religion good or bad? (This is a trick question)', \"Why is 'x' the unknown?\", 'A Rosetta Stone for a lost language', 'What makes a word \"real\"?', 'Atheism 2.0', 'Should we simplify spelling?', 'What I learned from 2,000 obituaries', 'Go ahead, make up new words!', 'https://www.ted.com/talks/dan_dennett_s_response_to_rick_warren\\n', 'https://www.ted.com/talks/john_mcwhorter_txtng_is_killing_language_jk\\n', 'https://www.ted.com/talks/kwame_anthony_appiah_is_religion_good_or_bad_this_is_a_trick_question\\n', 'https://www.ted.com/talks/terry_moore_why_is_x_the_unknown\\n', 'https://www.ted.com/talks/rajesh_rao_computing_a_rosetta_stone_for_the_indus_script\\n', 'https://www.ted.com/talks/anne_curzan_what_makes_a_word_real\\n', 'https://www.ted.com/talks/alain_de_botton_atheism_2_0\\n', 'https://www.ted.com/talks/karina_galperin_why_don_t_we_write_words_the_way_pronounce_them\\n', 'https://www.ted.com/talks/lux_narayan_what_i_learned_from_2_000_obituaries\\n', 'https://www.ted.com/talks/erin_mckean_go_ahead_make_up_new_words\\n']])\n"
     ]
    },
    {
     "name": "stderr",
     "output_type": "stream",
     "text": [
      "/anaconda3/lib/python3.7/site-packages/sklearn/decomposition/online_lda.py:395: UserWarning: Loky-backed parallel loops cannot be nested below threads, setting n_jobs=1\n",
      "  n_jobs = effective_n_jobs(self.n_jobs)\n",
      "127.0.0.1 - - [26/May/2019 18:03:54] \"POST /ted HTTP/1.1\" 200 -\n"
     ]
    },
    {
     "name": "stdout",
     "output_type": "stream",
     "text": [
      "leadership\n",
      "[ 519 2158  176  627  714  639  831  991 1144  241]\n",
      "dict_values([['Tribal leadership', '\"Redemption Song\"', '\"Tembererana\"', 'How to start a movement', 'The Axis of Evil Middle East Comedy Tour', 'Homeopathy, quackery and fraud', \"A whistleblower you haven't heard\", 'Trusting the ensemble', 'Gaming for understanding', 'The transformative power of classical music', 'https://www.ted.com/talks/david_logan_on_tribal_leadership\\n', 'https://www.ted.com/talks/john_legend_redemption_song\\n', 'https://www.ted.com/talks/raul_midon_plays_all_the_answers_and_tembererana\\n', 'https://www.ted.com/talks/derek_sivers_how_to_start_a_movement\\n', 'https://www.ted.com/talks/jamil_abu_wardeh_bringing_comedy_to_the_axis_of_evil\\n', 'https://www.ted.com/talks/james_randi\\n', 'https://www.ted.com/talks/a_whistleblower_you_haven_t_heard\\n', 'https://www.ted.com/talks/charles_hazlewood\\n', 'https://www.ted.com/talks/brenda_brathwaite_gaming_for_understanding\\n', 'https://www.ted.com/talks/benjamin_zander_on_music_and_passion\\n']])\n"
     ]
    },
    {
     "name": "stderr",
     "output_type": "stream",
     "text": [
      "/anaconda3/lib/python3.7/site-packages/sklearn/decomposition/online_lda.py:395: UserWarning: Loky-backed parallel loops cannot be nested below threads, setting n_jobs=1\n",
      "  n_jobs = effective_n_jobs(self.n_jobs)\n",
      "127.0.0.1 - - [26/May/2019 18:04:48] \"POST /ted HTTP/1.1\" 200 -\n"
     ]
    },
    {
     "name": "stdout",
     "output_type": "stream",
     "text": [
      "juggling\n",
      "[ 222  187  304 1037  270 1479  841   88 1230  256]\n",
      "dict_values([['Juggling as art ... and science', 'The untouchable music of the theremin', 'Playing invisible turntables', 'There are no mistakes on the bandstand', 'Close-up card magic with a twist', 'The polyphonic me', 'A modern take on piano, violin, cello', 'How to truly listen', 'The mad scientist of music', 'Brain magic', 'https://www.ted.com/talks/michael_moschen_juggles_rhythm_and_motion\\n', 'https://www.ted.com/talks/pamelia_kurstin_plays_the_theremin\\n', 'https://www.ted.com/talks/james_burchfield_plays_invisible_turntables\\n', 'https://www.ted.com/talks/stefon_harris_there_are_no_mistakes_on_the_bandstand\\n', 'https://www.ted.com/talks/lennart_green_does_close_up_card_magic\\n', 'https://www.ted.com/talks/beardyman_the_polyphonic_me\\n', 'https://www.ted.com/talks/ahn_trio_a_modern_take_on_piano_violin_cello\\n', 'https://www.ted.com/talks/evelyn_glennie_shows_how_to_listen\\n', 'https://www.ted.com/talks/mark_applebaum_the_mad_scientist_of_music\\n', 'https://www.ted.com/talks/keith_barry_does_brain_magic\\n']])\n"
     ]
    }
   ],
   "source": [
    "@app.route(\"/ted\", methods=[\"POST\"])\n",
    "def ted():\n",
    "    \"\"\"\n",
    "    When A POST request with json data is made to this uri,\n",
    "    Read the example from the json, predict probability and\n",
    "    send it with a response\n",
    "    \"\"\"\n",
    "    # Get decision score for our example that came with the request\n",
    "    data = flask.request.json\n",
    "    print(data)\n",
    "    X = data#[\"example\"])\n",
    "    #X = str(X[0])\n",
    "    title, score, talk_ind = process.extractOne(X, titles, scorer=fuzz.token_set_ratio)\n",
    "    recs = get_recommendations(cleaned_talks[talk_ind],lda_mod, vect_mod, lda_data, title,talk_ind)\n",
    "#     recs, urls = get_recommendations(cleaned_talks[talk_ind],lda_mod, vect_mod, lda_data, title,talk_ind)\n",
    "    print(recs.values())\n",
    "    # Put the result in a nice dict so we can send it as json\n",
    "    #results = {\"recommends\": recs[1]}\n",
    "    #print(results)\n",
    "    \n",
    "    return flask.jsonify(recs['0'])\n",
    "\n",
    "    \n",
    "\n",
    "#     return flask.jsonify(recs['0']), flask.jsonify(urls)\n",
    "#     return flask.jsonify(recs['0']), flask.jsonify(recs['1'])\n",
    "\n",
    "#     print(flask.jsonify(descriptions = recs['desc'], titles = recs['title'], urls = recs['urls']))\n",
    "    \n",
    "#     return flask.jsonify(descriptions = recs['desc'], titles = recs['title'], urls = recs['urls'])\n",
    "\n",
    "#     d = {'descriptions' : recs['desc'], 'titles' : recs['title'], 'urls' : recs['urls']}\n",
    "#     message = {\n",
    "#         'status': 200,\n",
    "#         'message': 'OK',\n",
    "#         'scores': d\n",
    "#     }\n",
    "#     resp = flask.jsonify(message)\n",
    "#     resp.status_code = 200\n",
    "#     return resp\n",
    "app.run(host='0.0.0.0')\n",
    "app.run(debug=True)"
   ]
  },
  {
   "cell_type": "code",
   "execution_count": null,
   "metadata": {},
   "outputs": [],
   "source": []
  },
  {
   "cell_type": "code",
   "execution_count": null,
   "metadata": {},
   "outputs": [],
   "source": []
  }
 ],
 "metadata": {
  "kernelspec": {
   "display_name": "Python 3",
   "language": "python",
   "name": "python3"
  },
  "language_info": {
   "codemirror_mode": {
    "name": "ipython",
    "version": 3
   },
   "file_extension": ".py",
   "mimetype": "text/x-python",
   "name": "python",
   "nbconvert_exporter": "python",
   "pygments_lexer": "ipython3",
   "version": "3.7.3"
  }
 },
 "nbformat": 4,
 "nbformat_minor": 2
}
