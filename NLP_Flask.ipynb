{
 "cells": [
  {
   "cell_type": "code",
   "execution_count": 7,
   "metadata": {},
   "outputs": [],
   "source": [
    "import flask\n",
    "\n",
    "import numpy as np\n",
    "import pandas as pd\n",
    "import pickle\n",
    "from collections import defaultdict\n",
    "\n",
    "from sklearn.neighbors import NearestNeighbors\n",
    "\n",
    "\n",
    "from fuzzywuzzy import process\n",
    "from fuzzywuzzy import fuzz\n",
    "\n"
   ]
  },
  {
   "cell_type": "code",
   "execution_count": null,
   "metadata": {},
   "outputs": [],
   "source": []
  },
  {
   "cell_type": "code",
   "execution_count": 8,
   "metadata": {},
   "outputs": [],
   "source": [
    "with open('./data/df_merged_cleaned.pkl', 'rb') as picklefile:\n",
    "    df_merged = pickle.load(picklefile)\n",
    "\n",
    "with open('./data/topic_names.pkl', 'rb') as picklefile:\n",
    "    topic_names = pickle.load(picklefile)\n",
    "\n",
    "with open('./data/lda_model.pkl', 'rb') as picklefile:\n",
    "    lda_mod = pickle.load(picklefile)\n",
    "\n",
    "with open('./data/vectorizer.pkl', 'rb') as picklefile:\n",
    "    vect_mod = pickle.load(picklefile)\n",
    "\n",
    "with open('./data/lda_model_data.pkl', 'rb') as picklefile:\n",
    "    lda_data = pickle.load(picklefile)\n",
    "\n",
    "cleaned_talks = df_merged['text']\n",
    "\n",
    "titles = df_merged['title']"
   ]
  },
  {
   "cell_type": "code",
   "execution_count": 9,
   "metadata": {},
   "outputs": [],
   "source": [
    "app = flask.Flask(__name__)"
   ]
  },
  {
   "cell_type": "code",
   "execution_count": 10,
   "metadata": {},
   "outputs": [],
   "source": [
    "def get_recommendations(first_article, model, vectorizer, training_vectors,title, ind):\n",
    "\n",
    "    new_vec = model.transform(\n",
    "        vectorizer.transform([first_article]))\n",
    "\n",
    "    nn = NearestNeighbors(n_neighbors=10, metric='cosine', algorithm='brute')\n",
    "    nn.fit(training_vectors)\n",
    "    results = nn.kneighbors(new_vec)\n",
    "    recommend_list = results[1][0]\n",
    "    scores = results[0]\n",
    "\n",
    "    rec_dict = defaultdict(list)\n",
    "\n",
    "    ss = np.array(scores).flat\n",
    "    for i, resp in enumerate(recommend_list):\n",
    "\n",
    "        rec_dict[\"0\"].append(df_merged.iloc[resp,1])\n",
    "#         rec_dict['title'] = df_merged[title]\n",
    "    \n",
    "    rec_dict[\"0\"].append(title)\n",
    "    rec_dict[\"0\"].append(topic_names.iloc[ind,0])\n",
    "    return rec_dict"
   ]
  },
  {
   "cell_type": "code",
   "execution_count": 11,
   "metadata": {},
   "outputs": [],
   "source": [
    "# get_recommendations(cleaned_talks[1], lda_mod, vect_mod,\n",
    "#                                        lda_data, 'Do schools kill creativity?', 1)"
   ]
  },
  {
   "cell_type": "code",
   "execution_count": 12,
   "metadata": {},
   "outputs": [],
   "source": [
    "@app.route(\"/\")\n",
    "def visualize_page():\n",
    "\n",
    "    \n",
    "    with open(\"ted_html.html\", 'r') as viz_file:\n",
    "        return viz_file.read()"
   ]
  },
  {
   "cell_type": "code",
   "execution_count": null,
   "metadata": {},
   "outputs": [],
   "source": []
  },
  {
   "cell_type": "code",
   "execution_count": null,
   "metadata": {
    "scrolled": false
   },
   "outputs": [
    {
     "name": "stdout",
     "output_type": "stream",
     "text": [
      " * Serving Flask app \"__main__\" (lazy loading)\n",
      " * Environment: production\n",
      "   WARNING: Do not use the development server in a production environment.\n",
      "   Use a production WSGI server instead.\n",
      " * Debug mode: off\n"
     ]
    },
    {
     "name": "stderr",
     "output_type": "stream",
     "text": [
      " * Running on http://0.0.0.0:5000/ (Press CTRL+C to quit)\n",
      "127.0.0.1 - - [26/May/2019 15:17:50] \"GET / HTTP/1.1\" 200 -\n",
      "/anaconda3/lib/python3.7/site-packages/sklearn/decomposition/online_lda.py:395: UserWarning: Loky-backed parallel loops cannot be nested below threads, setting n_jobs=1\n",
      "  n_jobs = effective_n_jobs(self.n_jobs)\n",
      "127.0.0.1 - - [26/May/2019 15:18:03] \"POST /ted HTTP/1.1\" 200 -\n"
     ]
    },
    {
     "name": "stdout",
     "output_type": "stream",
     "text": [
      "mapping the brain\n",
      "dict_values([['Many people think the lines on the map no longer matter, but Parag Khanna says they do. Using maps of the past and present, he explains the root causes of border conflicts worldwide and proposes simple yet cunning solutions for each.', 'Over the past few centuries, Western cultures have been very good at creating general prosperity for themselves. Historian Niall Ferguson asks: Why the West, and less so the rest? He suggests half a dozen big ideas from Western culture -- call them the 6 killer apps -- that promote wealth, stability and innovation. And in this new century, he says, these apps are all shareable.', 'Severine Autesserre studies the Democratic Republic of Congo, which is in the middle of the deadliest conflict since World War II; it\\'s been called \"the largest ongoing humanitarian crisis in the world.” The conflict seems hopelessly, unsolvably large. But her insight from decades of listening and engaging: The conflicts are often locally based. And instead of focusing on solutions that scale to a national level, leaders and aid groups might be better served solving local crises before they ignite.', \"Can the interests of an individual nation be reconciled with humanity's greater good? Can a patriotic, nationally elected politician really give people in other countries equal consideration? Following his TEDTalk calling for a global ethic, UK Prime Minister Gordon Brown fields questions from TED Curator Chris Anderson.\", \"Civil wars and ethnic conflicts have brought the world incredible suffering, but Stefan Wolff's figures show that, in the last 20 years, their number has steadily decreased. He extracts critical lessons from Northern Ireland, Liberia, Timor and more to show that leadership, diplomacy and institutional design are our three most effective weapons in waging peace.\", \"Americanization and globalization have basically been the same thing for the last several generations. But the US's view of the world -- and the world's view of the US -- is changing. In a fast-paced tour of the current state of international politics, Ian Bremmer discusses the challenges of a world where no single country or alliance can meet the challenges of global leadership and asks if the US is ready to lead by example, not by force.\", '\"I want you to reimagine how life is organized on earth,\" says global strategist Parag Khanna. As our expanding cities grow ever more connected through transportation, energy and communications networks, we evolve from geography to what he calls \"connectography.\" This emerging global network civilization holds the promise of reducing pollution and inequality -- and even overcoming geopolitical rivalries. In this talk, Khanna asks us to embrace a new maxim for the future: \"Connectivity is destiny.\"', \"António Guterres thinks that we can solve the global refugee crisis -- and he offers compelling, surprising reasons why we must try. In conversation with TED's Bruno Giussani, Guterres discusses the historical causes of the current crisis and outlines the mood of the European countries that are trying to screen, shelter and resettle hundreds of thousands of desperate families. Bigger picture: Guterres calls for a multilateral turn toward acceptance and respect -- to defy groups like ISIS's anti-refugee propaganda and recruiting machine.\", 'Speaking at a TED Salon in London, Martin Jacques asks: How do we in the West make sense of China and its phenomenal rise? The author of \"When China Rules the World,\" he examines why the West often puzzles over the growing power of the Chinese economy, and offers three building blocks for understanding what China is and will become.', \"The developed world holds up the ideals of capitalism, democracy and political rights for all. Those in emerging markets often don't have that luxury. In this powerful talk, economist Dambisa Moyo makes the case that the west can't afford to rest on its laurels and imagine others will blindly follow. Instead, a different model, embodied by China, is increasingly appealing. A call for open-minded political and economic cooperation in the name of transforming the world.\", 'Mapping the future of countries', 'country government state percent global united china war million india public economic law nation number population growth chinese security policy']])\n"
     ]
    },
    {
     "name": "stderr",
     "output_type": "stream",
     "text": [
      "/anaconda3/lib/python3.7/site-packages/sklearn/decomposition/online_lda.py:395: UserWarning: Loky-backed parallel loops cannot be nested below threads, setting n_jobs=1\n",
      "  n_jobs = effective_n_jobs(self.n_jobs)\n",
      "127.0.0.1 - - [26/May/2019 15:18:19] \"POST /ted HTTP/1.1\" 200 -\n"
     ]
    },
    {
     "name": "stdout",
     "output_type": "stream",
     "text": [
      "brain\n",
      "dict_values([['Treo creator Jeff Hawkins urges us to take a new look at the brain -- to see it not as a fast processor, but as a memory system that stores and plays back experiences to help us predict, intelligently, what will happen next.', 'Can we use our brains to directly control machines? Miguel Nicolelis suggests yes, showing how a clever monkey in the US learned to control a robot arm in Japan purely with its thoughts. The research has big implications for quadraplegic people -- and in fact, it powered the exoskeleton that kicked off the 2014 World Cup.', 'You may remember neuroscientist Miguel Nicolelis — he built the brain-controlled exoskeleton that allowed a paralyzed man to kick the first ball of the 2014 World Cup. What’s he working on now? Building ways for two minds (rats and monkeys, for now) to send messages brain to brain. Watch to the end for an experiment that, as he says, will go to \"the limit of your imagination.\"', 'As humans, we can perceive less than a ten-trillionth of all light waves. \"Our experience of reality,\" says neuroscientist David Eagleman, \"is constrained by our biology.\" He wants to change that. His research into our brain processes has led him to create new interfaces -- such as a sensory vest -- to take in previously unseen information about the world around us.', 'Philosopher John Searle lays out the case for studying human consciousness -- and systematically shoots down some of the common objections to taking it seriously. As we learn more about the brain processes that cause awareness, accepting that consciousness is a biological phenomenon is an important first step. And no, he says, consciousness is not a massive computer simulation.', \"Can we edit the content of our memories? It's a sci-fi-tinged question that Steve Ramirez and Xu Liu are asking in their lab at MIT. Essentially, the pair shoot a laser beam into the brain of a living mouse to activate and manipulate its memory. In this unexpectedly amusing talk they share not only how, but -- more important -- why they do this.\", \"Attention isn't just about what we focus on -- it's also about what our brains filter out. By investigating patterns in the brain as people try to focus, computational neuroscientist Mehdi Ordikhani-Seyedlar hopes to build computer models that can be used to treat ADHD and help those who have lost the ability to communicate. Hear more about this exciting science in this brief, fascinating talk.\", 'Neuroscientist Uri Hasson researches the basis of human communication, and experiments from his lab reveal that even across different languages, our brains show similar activity, or become \"aligned,\" when we hear the same idea or story. This amazing neural mechanism allows us to transmit brain patterns, sharing memories and knowledge. \"We can communicate because we have a common code that presents meaning,\" Hasson says.', \"Can we break bad habits by being more curious about them? Psychiatrist Judson Brewer studies the relationship between mindfulness and addiction -- from smoking to overeating to all those other things we do even though we know they're bad for us. Learn more about the mechanism of habit development and discover a simple but profound tactic that might help you beat your next urge to smoke, snack or check a text while driving.\", \"Henry Markram says the mysteries of the mind can be solved -- soon. Mental illness, memory, perception: they're made of neurons and electric signals, and he plans to find them with a supercomputer that models all the brain's 100,000,000,000,000 synapses.\", 'How brain science will change computing', 'brain mind example pattern behavior body understand memory neuron study experience self turn information experiment science control person eye consciousness']])\n"
     ]
    },
    {
     "name": "stderr",
     "output_type": "stream",
     "text": [
      "/anaconda3/lib/python3.7/site-packages/sklearn/decomposition/online_lda.py:395: UserWarning: Loky-backed parallel loops cannot be nested below threads, setting n_jobs=1\n",
      "  n_jobs = effective_n_jobs(self.n_jobs)\n",
      "127.0.0.1 - - [26/May/2019 15:19:10] \"POST /ted HTTP/1.1\" 200 -\n"
     ]
    },
    {
     "name": "stdout",
     "output_type": "stream",
     "text": [
      "new way to make music\n",
      "dict_values([['Designer Jared Ficklin creates wild visualizations that let us see music, using color and even fire (a first for the TED stage) to analyze how sound makes us feel. He takes a brief digression to analyze the sound of a skatepark -- and how audio can clue us in to developing creativity.', 'Meet the “motion microscope,” a video-processing tool that plays up tiny changes in motion and color impossible to see with the naked eye. Video researcher Michael Rubinstein plays us clip after jaw-dropping clip showing how this tech can track an individual’s pulse and heartbeat simply from a piece of footage. Watch him re-create a conversation by amplifying the movements from sound waves bouncing off a bag of chips. The wow-inspiring and sinister applications of this tech you have to see to believe.', 'Violinist Sirena Huang gives a technically brilliant and emotionally nuanced performance. In a charming interlude, the 11-year-old praises the timeless design of her instrument.', 'Electro-pop duo Sofi Tukker dance it out with the TED audience in a performance of their upbeat, rhythmic song \"Awoo,\" featuring Betta Lemme.', \"Tod Machover of MIT's Media Lab is devoted to extending musical expression to everyone, from virtuosos to amateurs, and in the most diverse forms, from opera to video games. He and composer Dan Ellsey shed light on what's next.\", 'Imagine hearing great, departed pianists play again today, just as they would in person. John Q. Walker demonstrates how recordings can be analyzed for precise keystrokes and pedal motions, then played back on computer-controlled grand pianos.', 'Colin Robertson had 3 minutes on the TED stage to tell the world about his solar-powered crowdsourced health care solution. And then...', \"Basketball is a fast-moving game of improvisation, contact and, ahem, spatio-temporal pattern recognition. Rajiv Maheswaran and his colleagues are analyzing the movements behind the key plays of the game, to help coaches and players combine intuition with new data. Bonus: What they're learning could help us understand how humans move everywhere.\", 'Sculptor and engineer Arthur Ganson talks about his work -- kinetic art that explores deep philosophical ideas and is gee-whiz fun to look at.', 'Hailed as the greatest pickpocket in the world, Apollo Robbins studies the quirks of human behavior as he steals your watch. In a hilarious demonstration, Robbins samples the buffet of the TEDGlobal 2013 audience, showing how the flaws in our perception make it possible to swipe a wallet and leave it on its owner’s shoulder while they remain clueless.', 'New ways to see music (with color! and fire!)', 'play game music sound ok video oh yeah guy stuff hand robot sort try playing hear okay song audience feel']])\n"
     ]
    },
    {
     "name": "stderr",
     "output_type": "stream",
     "text": [
      "/anaconda3/lib/python3.7/site-packages/sklearn/decomposition/online_lda.py:395: UserWarning: Loky-backed parallel loops cannot be nested below threads, setting n_jobs=1\n",
      "  n_jobs = effective_n_jobs(self.n_jobs)\n",
      "127.0.0.1 - - [26/May/2019 15:19:40] \"POST /ted HTTP/1.1\" 200 -\n"
     ]
    },
    {
     "name": "stdout",
     "output_type": "stream",
     "text": [
      "do schools kill creativity\n",
      "dict_values([['Sir Ken Robinson makes an entertaining and profoundly moving case for creating an education system that nurtures (rather than undermines) creativity.', \"With profound simplicity, Coach John Wooden redefines success and urges us all to pursue the best in ourselves. In this inspiring talk he shares the advice he gave his players at UCLA, quotes poetry and remembers his father's wisdom.\", 'How can you help kids get a good start? In this heartfelt and personal talk, Colin Powell, the former U.S. Secretary of State, asks parents, friends and relatives to support children, starting before they even get to primary school, through community and a strong sense of responsibility.', \"Imagine a country where girls must sneak out to go to school, with deadly consequences if they get caught learning. This was Afghanistan under the Taliban, and traces of that danger remain today. 22-year-old Shabana Basij-Rasikh runs a school for girls in Afghanistan. She celebrates the power of a family's decision to believe in their daughters -- and tells the story of one brave father who stood up to local threats.\", \"Nobel Peace Prize winner Leymah Gbowee has two powerful stories to tell -- of her own life's transformation, and of the untapped potential of girls around the world. Can we transform the world by unlocking the greatness of girls?\", 'Kakenya Ntaiya made a deal with her father: She would undergo a traditional Maasai rite of passage, female circumcision, if he would let her go to high school. Ntaiya tells the fearless story of continuing on to college, and of working with her village elders to build a school for girls in her community, changing the destiny of 125 young women.', \"Artist Titus Kaphar makes paintings and sculptures that wrestle with the struggles of the past while speaking to the diversity and advances of the present. In an unforgettable live workshop, Kaphar takes a brush full of white paint to a replica of a 17th-century Frans Hals painting, obscuring parts of the composition and bringing its hidden story into view. There's a narrative coded in art like this, Kaphar says. What happens when we shift our focus and confront unspoken truths?\", \"Children's book author Jarrett Krosoczka shares the origins of the Lunch Lady graphic novel series, in which undercover school heroes serve lunch...and justice! His new project, School Lunch Hero Day, reveals how cafeteria lunch staff provide more than food, and illustrates how powerful a thank you can be.\", 'Define students by what they contribute, not what they lack -- especially those with difficult upbringings, says educator Victor Rios. Interweaved with his personal tale of perseverance as an inner-city youth, Rios identifies three straightforward strategies to shift attitudes in education and calls for fellow educators to see \"at-risk\" students as \"at-promise\" individuals brimming with resilience, character and grit.', \"When the Taliban closed all the girls' schools in Afghanistan, Sakena Yacoobi set up new schools, in secret, educating thousands of women and men. In this fierce, funny talk, she tells the jaw-dropping story of two times when she was threatened to stop teaching -- and shares her vision for rebuilding her beloved country.\", 'Do schools kill creativity?', 'child school kid student teacher education family parent learning learn class high old percent teach young college help girl classroom']])\n"
     ]
    }
   ],
   "source": [
    "@app.route(\"/ted\", methods=[\"POST\"])\n",
    "def ted():\n",
    "    \"\"\"\n",
    "    When A POST request with json data is made to this uri,\n",
    "    Read the example from the json, predict probability and\n",
    "    send it with a response\n",
    "    \"\"\"\n",
    "    # Get decision score for our example that came with the request\n",
    "    data = flask.request.json\n",
    "    print(data)\n",
    "    X = data#[\"example\"])\n",
    "    #X = str(X[0])\n",
    "    title, score, talk_ind = process.extractOne(X, titles, scorer=fuzz.token_set_ratio)\n",
    "    recs = get_recommendations(cleaned_talks[talk_ind],lda_mod, vect_mod, lda_data, title,talk_ind)\n",
    "\n",
    "    print(recs.values())\n",
    "    # Put the result in a nice dict so we can send it as json\n",
    "    #results = {\"recommends\": recs[1]}\n",
    "    #print(results)\n",
    "    return flask.jsonify(recs['0'])\n",
    "    #return flask.json.dump(recs,fp)\n",
    "#--------- RUN WEB APP SERVER ------------#\n",
    "\n",
    "# Start the app server on port 80\n",
    "# (The default website port)\n",
    "app.run(host='0.0.0.0')\n",
    "app.run(debug=True)"
   ]
  },
  {
   "cell_type": "code",
   "execution_count": null,
   "metadata": {},
   "outputs": [],
   "source": []
  },
  {
   "cell_type": "code",
   "execution_count": null,
   "metadata": {},
   "outputs": [],
   "source": []
  }
 ],
 "metadata": {
  "kernelspec": {
   "display_name": "Python 3",
   "language": "python",
   "name": "python3"
  },
  "language_info": {
   "codemirror_mode": {
    "name": "ipython",
    "version": 3
   },
   "file_extension": ".py",
   "mimetype": "text/x-python",
   "name": "python",
   "nbconvert_exporter": "python",
   "pygments_lexer": "ipython3",
   "version": "3.7.3"
  }
 },
 "nbformat": 4,
 "nbformat_minor": 2
}
