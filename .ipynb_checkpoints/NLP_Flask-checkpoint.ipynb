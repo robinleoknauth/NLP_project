{
 "cells": [
  {
   "cell_type": "code",
   "execution_count": 1,
   "metadata": {},
   "outputs": [],
   "source": [
    "import flask\n",
    "\n",
    "import numpy as np\n",
    "import pandas as pd\n",
    "import pickle\n",
    "from collections import defaultdict\n",
    "\n",
    "from sklearn.neighbors import NearestNeighbors\n",
    "\n",
    "\n",
    "from fuzzywuzzy import process\n",
    "from fuzzywuzzy import fuzz\n",
    "\n"
   ]
  },
  {
   "cell_type": "code",
   "execution_count": null,
   "metadata": {},
   "outputs": [],
   "source": []
  },
  {
   "cell_type": "code",
   "execution_count": 2,
   "metadata": {},
   "outputs": [],
   "source": [
    "with open('./data/df_merged_cleaned.pkl', 'rb') as picklefile:\n",
    "    df_merged = pickle.load(picklefile)\n",
    "\n",
    "with open('./data/topic_names.pkl', 'rb') as picklefile:\n",
    "    topic_names = pickle.load(picklefile)\n",
    "\n",
    "with open('./data/lda_model.pkl', 'rb') as picklefile:\n",
    "    lda_mod = pickle.load(picklefile)\n",
    "\n",
    "with open('./data/vectorizer.pkl', 'rb') as picklefile:\n",
    "    vect_mod = pickle.load(picklefile)\n",
    "\n",
    "with open('./data/lda_model_data.pkl', 'rb') as picklefile:\n",
    "    lda_data = pickle.load(picklefile)\n",
    "\n",
    "cleaned_talks = df_merged['text']\n",
    "\n",
    "titles = df_merged['title']"
   ]
  },
  {
   "cell_type": "code",
   "execution_count": 3,
   "metadata": {},
   "outputs": [],
   "source": [
    "app = flask.Flask(__name__)"
   ]
  },
  {
   "cell_type": "code",
   "execution_count": null,
   "metadata": {},
   "outputs": [],
   "source": [
    "def get_recommendations(first_article, model, vectorizer, training_vectors,title, ind):\n",
    "\n",
    "    new_vec = model.transform(\n",
    "        vectorizer.transform([first_article]))\n",
    "\n",
    "    nn = NearestNeighbors(n_neighbors=10, metric='cosine', algorithm='brute')\n",
    "    nn.fit(training_vectors)\n",
    "    results = nn.kneighbors(new_vec)\n",
    "    recommend_list = results[1][0]\n",
    "    scores = results[0]\n",
    "\n",
    "    rec_dict = defaultdict(list)\n",
    "    urls = []\n",
    "    ss = np.array(scores).flat\n",
    "    for i, resp in enumerate(recommend_list):\n",
    "        \n",
    "#         rec_dict[\"0\"].append(df_merged.iloc[resp,1])\n",
    "        \n",
    "        rec_dict['0'].append(df_merged.iloc[i]['title'])\n",
    "#         rec_dict['0'].append(df_merged.iloc[i]['url'])\n",
    "#         rec_dict['0'].append(df_merged.iloc[i]['title'])\n",
    "        \n",
    "#         rec_dict[\"desc\"].append(df_merged.iloc[resp,1])\n",
    "#         rec_dict[\"url\"].append(df_merged.iloc[i]['url'])\n",
    "#         rec_dict[\"title\"].append(df_merged.iloc[i]['title'])\n",
    "#         urls.append(df_merged.iloc[i]['url'])\n",
    "#         rec_dict['title'] = df_merged[title]\n",
    "    \n",
    "    for i, resp in enumerate(recommend_list):\n",
    "        rec_dict['0'].append(df_merged.iloc[i]['url'])\n",
    "    return rec_dict"
   ]
  },
  {
   "cell_type": "code",
   "execution_count": null,
   "metadata": {},
   "outputs": [
    {
     "data": {
      "text/plain": [
       "defaultdict(list,\n",
       "            {'0': ['Do schools kill creativity?',\n",
       "              'https://www.ted.com/talks/ken_robinson_says_schools_kill_creativity\\n',\n",
       "              'Averting the climate crisis',\n",
       "              'https://www.ted.com/talks/al_gore_on_averting_climate_crisis\\n',\n",
       "              'Simplicity sells',\n",
       "              'https://www.ted.com/talks/david_pogue_says_simplicity_sells\\n',\n",
       "              'Greening the ghetto',\n",
       "              'https://www.ted.com/talks/majora_carter_s_tale_of_urban_renewal\\n',\n",
       "              \"The best stats you've ever seen\",\n",
       "              'https://www.ted.com/talks/hans_rosling_shows_the_best_stats_you_ve_ever_seen\\n',\n",
       "              'Why we do what we do',\n",
       "              'https://www.ted.com/talks/tony_robbins_asks_why_we_do_what_we_do\\n',\n",
       "              'Letting go of God',\n",
       "              'https://www.ted.com/talks/julia_sweeney_on_letting_go_of_god\\n',\n",
       "              \"Behind the design of Seattle's library\",\n",
       "              'https://www.ted.com/talks/joshua_prince_ramus_on_seattle_s_library\\n',\n",
       "              \"Let's teach religion -- all religion -- in schools\",\n",
       "              'https://www.ted.com/talks/dan_dennett_s_response_to_rick_warren\\n',\n",
       "              'A life of purpose',\n",
       "              'https://www.ted.com/talks/rick_warren_on_a_life_of_purpose\\n']})"
      ]
     },
     "execution_count": 5,
     "metadata": {},
     "output_type": "execute_result"
    }
   ],
   "source": [
    "get_recommendations(cleaned_talks[1], lda_mod, vect_mod,\n",
    "                                       lda_data, 'Do schools kill creativity?', 1)"
   ]
  },
  {
   "cell_type": "code",
   "execution_count": null,
   "metadata": {},
   "outputs": [],
   "source": [
    "@app.route(\"/\")\n",
    "def visualize_page():\n",
    "\n",
    "    \n",
    "    with open(\"ted_html.html\", 'r') as viz_file:\n",
    "        return viz_file.read()"
   ]
  },
  {
   "cell_type": "code",
   "execution_count": null,
   "metadata": {},
   "outputs": [],
   "source": []
  },
  {
   "cell_type": "code",
   "execution_count": null,
   "metadata": {
    "scrolled": false
   },
   "outputs": [
    {
     "name": "stdout",
     "output_type": "stream",
     "text": [
      " * Serving Flask app \"__main__\" (lazy loading)\n",
      " * Environment: production\n",
      "   WARNING: Do not use the development server in a production environment.\n",
      "   Use a production WSGI server instead.\n",
      " * Debug mode: off\n"
     ]
    },
    {
     "name": "stderr",
     "output_type": "stream",
     "text": [
      " * Running on http://0.0.0.0:5000/ (Press CTRL+C to quit)\n",
      "127.0.0.1 - - [26/May/2019 17:51:20] \"GET / HTTP/1.1\" 200 -\n",
      "/anaconda3/lib/python3.7/site-packages/sklearn/decomposition/online_lda.py:395: UserWarning: Loky-backed parallel loops cannot be nested below threads, setting n_jobs=1\n",
      "  n_jobs = effective_n_jobs(self.n_jobs)\n",
      "127.0.0.1 - - [26/May/2019 17:51:24] \"POST /ted HTTP/1.1\" 200 -\n"
     ]
    },
    {
     "name": "stdout",
     "output_type": "stream",
     "text": [
      "schools\n",
      "dict_values([['Do schools kill creativity?', 'https://www.ted.com/talks/ken_robinson_says_schools_kill_creativity\\n', 'Averting the climate crisis', 'https://www.ted.com/talks/al_gore_on_averting_climate_crisis\\n', 'Simplicity sells', 'https://www.ted.com/talks/david_pogue_says_simplicity_sells\\n', 'Greening the ghetto', 'https://www.ted.com/talks/majora_carter_s_tale_of_urban_renewal\\n', \"The best stats you've ever seen\", 'https://www.ted.com/talks/hans_rosling_shows_the_best_stats_you_ve_ever_seen\\n', 'Why we do what we do', 'https://www.ted.com/talks/tony_robbins_asks_why_we_do_what_we_do\\n', 'Letting go of God', 'https://www.ted.com/talks/julia_sweeney_on_letting_go_of_god\\n', \"Behind the design of Seattle's library\", 'https://www.ted.com/talks/joshua_prince_ramus_on_seattle_s_library\\n', \"Let's teach religion -- all religion -- in schools\", 'https://www.ted.com/talks/dan_dennett_s_response_to_rick_warren\\n', 'A life of purpose', 'https://www.ted.com/talks/rick_warren_on_a_life_of_purpose\\n']])\n"
     ]
    }
   ],
   "source": [
    "@app.route(\"/ted\", methods=[\"POST\"])\n",
    "def ted():\n",
    "    \"\"\"\n",
    "    When A POST request with json data is made to this uri,\n",
    "    Read the example from the json, predict probability and\n",
    "    send it with a response\n",
    "    \"\"\"\n",
    "    # Get decision score for our example that came with the request\n",
    "    data = flask.request.json\n",
    "    print(data)\n",
    "    X = data#[\"example\"])\n",
    "    #X = str(X[0])\n",
    "    title, score, talk_ind = process.extractOne(X, titles, scorer=fuzz.token_set_ratio)\n",
    "    recs = get_recommendations(cleaned_talks[talk_ind],lda_mod, vect_mod, lda_data, title,talk_ind)\n",
    "#     recs, urls = get_recommendations(cleaned_talks[talk_ind],lda_mod, vect_mod, lda_data, title,talk_ind)\n",
    "    print(recs.values())\n",
    "    # Put the result in a nice dict so we can send it as json\n",
    "    #results = {\"recommends\": recs[1]}\n",
    "    #print(results)\n",
    "    \n",
    "    return flask.jsonify(recs['0'])\n",
    "\n",
    "    \n",
    "\n",
    "#     return flask.jsonify(recs['0']), flask.jsonify(urls)\n",
    "#     return flask.jsonify(recs['0']), flask.jsonify(recs['1'])\n",
    "\n",
    "#     print(flask.jsonify(descriptions = recs['desc'], titles = recs['title'], urls = recs['urls']))\n",
    "    \n",
    "#     return flask.jsonify(descriptions = recs['desc'], titles = recs['title'], urls = recs['urls'])\n",
    "\n",
    "#     d = {'descriptions' : recs['desc'], 'titles' : recs['title'], 'urls' : recs['urls']}\n",
    "#     message = {\n",
    "#         'status': 200,\n",
    "#         'message': 'OK',\n",
    "#         'scores': d\n",
    "#     }\n",
    "#     resp = flask.jsonify(message)\n",
    "#     resp.status_code = 200\n",
    "#     return resp\n",
    "app.run(host='0.0.0.0')\n",
    "app.run(debug=True)"
   ]
  },
  {
   "cell_type": "code",
   "execution_count": null,
   "metadata": {},
   "outputs": [],
   "source": []
  },
  {
   "cell_type": "code",
   "execution_count": null,
   "metadata": {},
   "outputs": [],
   "source": []
  }
 ],
 "metadata": {
  "kernelspec": {
   "display_name": "Python 3",
   "language": "python",
   "name": "python3"
  },
  "language_info": {
   "codemirror_mode": {
    "name": "ipython",
    "version": 3
   },
   "file_extension": ".py",
   "mimetype": "text/x-python",
   "name": "python",
   "nbconvert_exporter": "python",
   "pygments_lexer": "ipython3",
   "version": "3.7.3"
  }
 },
 "nbformat": 4,
 "nbformat_minor": 2
}
