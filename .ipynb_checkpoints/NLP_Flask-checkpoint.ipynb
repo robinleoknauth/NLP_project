{
 "cells": [
  {
   "cell_type": "code",
   "execution_count": 18,
   "metadata": {},
   "outputs": [],
   "source": [
    "import flask\n",
    "\n",
    "import numpy as np\n",
    "import pandas as pd\n",
    "import pickle\n",
    "from collections import defaultdict\n",
    "\n",
    "from sklearn.neighbors import NearestNeighbors\n",
    "\n",
    "\n",
    "from fuzzywuzzy import process\n",
    "from fuzzywuzzy import fuzz\n",
    "\n"
   ]
  },
  {
   "cell_type": "code",
   "execution_count": null,
   "metadata": {},
   "outputs": [],
   "source": []
  },
  {
   "cell_type": "code",
   "execution_count": 19,
   "metadata": {},
   "outputs": [],
   "source": [
    "with open('./data/df_merged_cleaned.pkl', 'rb') as picklefile:\n",
    "    df_merged = pickle.load(picklefile)\n",
    "\n",
    "with open('./data/topic_names.pkl', 'rb') as picklefile:\n",
    "    topic_names = pickle.load(picklefile)\n",
    "\n",
    "with open('./data/lda_model.pkl', 'rb') as picklefile:\n",
    "    lda_mod = pickle.load(picklefile)\n",
    "\n",
    "with open('./data/vectorizer.pkl', 'rb') as picklefile:\n",
    "    vect_mod = pickle.load(picklefile)\n",
    "\n",
    "with open('./data/lda_model_data.pkl', 'rb') as picklefile:\n",
    "    lda_data = pickle.load(picklefile)\n",
    "\n",
    "cleaned_talks = df_merged['text']"
   ]
  },
  {
   "cell_type": "code",
   "execution_count": 20,
   "metadata": {},
   "outputs": [],
   "source": [
    "app = flask.Flask(__name__)"
   ]
  },
  {
   "cell_type": "code",
   "execution_count": 21,
   "metadata": {},
   "outputs": [],
   "source": [
    "def get_recommendations(first_article, model, vectorizer, training_vectors,title, ind):\n",
    "\n",
    "    new_vec = model.transform(\n",
    "        vectorizer.transform([first_article]))\n",
    "\n",
    "    nn = NearestNeighbors(n_neighbors=6, metric='cosine', algorithm='brute')\n",
    "    nn.fit(training_vectors)\n",
    "    results = nn.kneighbors(new_vec)\n",
    "    recommend_list = results[1][0]\n",
    "    scores = results[0]\n",
    "\n",
    "    rec_dict = defaultdict(list)\n",
    "\n",
    "    ss = np.array(scores).flat\n",
    "    for i, resp in enumerate(recommend_list):\n",
    "        #print('--- ID ---\\n', + resp)\n",
    "        #print('--- dist ---\\n', + ss[i])\n",
    "        rec_dict[\"0\"].append(ted_all.iloc[resp,1])\n",
    "\n",
    "    rec_dict[\"0\"].append(title)\n",
    "    rec_dict[\"0\"].append(topic_names.iloc[ind,0])\n",
    "    return rec_dict"
   ]
  },
  {
   "cell_type": "code",
   "execution_count": 22,
   "metadata": {},
   "outputs": [],
   "source": [
    "@app.route(\"/\")\n",
    "def visualize_page():\n",
    "\n",
    "    \n",
    "    with open(\"ted_html.html\", 'r') as viz_file:\n",
    "        return viz_file.read()"
   ]
  },
  {
   "cell_type": "code",
   "execution_count": null,
   "metadata": {},
   "outputs": [
    {
     "name": "stdout",
     "output_type": "stream",
     "text": [
      " * Serving Flask app \"__main__\" (lazy loading)\n",
      " * Environment: production\n",
      "   WARNING: Do not use the development server in a production environment.\n",
      "   Use a production WSGI server instead.\n",
      " * Debug mode: off\n"
     ]
    },
    {
     "name": "stderr",
     "output_type": "stream",
     "text": [
      " * Running on http://0.0.0.0:5000/ (Press CTRL+C to quit)\n",
      "127.0.0.1 - - [26/May/2019 14:17:01] \"GET / HTTP/1.1\" 200 -\n",
      "127.0.0.1 - - [26/May/2019 14:17:01] \"GET /favicon.ico HTTP/1.1\" 404 -\n",
      "127.0.0.1 - - [26/May/2019 14:17:27] \"POST /ted HTTP/1.1\" 404 -\n",
      "127.0.0.1 - - [26/May/2019 14:17:38] \"POST /ted HTTP/1.1\" 404 -\n",
      "127.0.0.1 - - [26/May/2019 14:17:38] \"POST /ted HTTP/1.1\" 404 -\n",
      "127.0.0.1 - - [26/May/2019 14:17:38] \"POST /ted HTTP/1.1\" 404 -\n",
      "127.0.0.1 - - [26/May/2019 14:17:39] \"POST /ted HTTP/1.1\" 404 -\n",
      "127.0.0.1 - - [26/May/2019 14:17:39] \"POST /ted HTTP/1.1\" 404 -\n",
      "127.0.0.1 - - [26/May/2019 14:17:39] \"POST /ted HTTP/1.1\" 404 -\n",
      "127.0.0.1 - - [26/May/2019 14:19:14] \"POST /ted HTTP/1.1\" 404 -\n",
      "127.0.0.1 - - [26/May/2019 14:19:14] \"POST /ted HTTP/1.1\" 404 -\n",
      "127.0.0.1 - - [26/May/2019 14:19:15] \"POST /ted HTTP/1.1\" 404 -\n",
      "127.0.0.1 - - [26/May/2019 14:19:15] \"POST /ted HTTP/1.1\" 404 -\n",
      "127.0.0.1 - - [26/May/2019 14:19:15] \"POST /ted HTTP/1.1\" 404 -\n",
      "127.0.0.1 - - [26/May/2019 14:19:15] \"POST /ted HTTP/1.1\" 404 -\n",
      "127.0.0.1 - - [26/May/2019 14:19:15] \"POST /ted HTTP/1.1\" 404 -\n",
      "127.0.0.1 - - [26/May/2019 14:19:15] \"POST /ted HTTP/1.1\" 404 -\n",
      "127.0.0.1 - - [26/May/2019 14:19:16] \"POST /ted HTTP/1.1\" 404 -\n",
      "127.0.0.1 - - [26/May/2019 14:19:16] \"POST /ted HTTP/1.1\" 404 -\n",
      "127.0.0.1 - - [26/May/2019 14:22:22] \"POST /ted HTTP/1.1\" 404 -\n",
      "127.0.0.1 - - [26/May/2019 14:22:22] \"POST /ted HTTP/1.1\" 404 -\n",
      "127.0.0.1 - - [26/May/2019 14:22:22] \"POST /ted HTTP/1.1\" 404 -\n",
      "127.0.0.1 - - [26/May/2019 14:22:27] \"POST /ted HTTP/1.1\" 404 -\n",
      "127.0.0.1 - - [26/May/2019 14:22:27] \"POST /ted HTTP/1.1\" 404 -\n",
      "127.0.0.1 - - [26/May/2019 14:22:27] \"POST /ted HTTP/1.1\" 404 -\n",
      "127.0.0.1 - - [26/May/2019 14:22:27] \"POST /ted HTTP/1.1\" 404 -\n",
      "127.0.0.1 - - [26/May/2019 14:22:28] \"POST /ted HTTP/1.1\" 404 -\n"
     ]
    }
   ],
   "source": [
    "def ted():\n",
    "    \"\"\"\n",
    "    When A POST request with json data is made to this uri,\n",
    "    Read the example from the json, predict probability and\n",
    "    send it with a response\n",
    "    \"\"\"\n",
    "    # Get decision score for our example that came with the request\n",
    "    data = flask.request.json\n",
    "    print(data)\n",
    "    X = data#[\"example\"])\n",
    "    #X = str(X[0])\n",
    "    title, score, talk_ind = process.extractOne(X, titles, scorer=fuzz.token_set_ratio)\n",
    "    recs = get_recommendations(cleaned_talks[talk_ind],lda_mod, vect_mod, lda_data, title,talk_ind)\n",
    "\n",
    "    print(recs.values())\n",
    "    # Put the result in a nice dict so we can send it as json\n",
    "    #results = {\"recommends\": recs[1]}\n",
    "    #print(results)\n",
    "    return flask.jsonify(recs['0'])\n",
    "    #return flask.json.dump(recs,fp)\n",
    "#--------- RUN WEB APP SERVER ------------#\n",
    "\n",
    "# Start the app server on port 80\n",
    "# (The default website port)\n",
    "app.run(host='0.0.0.0')\n",
    "app.run(debug=True)"
   ]
  },
  {
   "cell_type": "code",
   "execution_count": null,
   "metadata": {},
   "outputs": [],
   "source": []
  }
 ],
 "metadata": {
  "kernelspec": {
   "display_name": "Python 3",
   "language": "python",
   "name": "python3"
  },
  "language_info": {
   "codemirror_mode": {
    "name": "ipython",
    "version": 3
   },
   "file_extension": ".py",
   "mimetype": "text/x-python",
   "name": "python",
   "nbconvert_exporter": "python",
   "pygments_lexer": "ipython3",
   "version": "3.7.3"
  }
 },
 "nbformat": 4,
 "nbformat_minor": 2
}
